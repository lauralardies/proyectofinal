{
 "cells": [
  {
   "cell_type": "code",
   "execution_count": 1,
   "metadata": {},
   "outputs": [],
   "source": [
    "# Importamos las librerías necesarias.\n",
    "import pandas as pd\n",
    "import matplotlib.pyplot as plt"
   ]
  },
  {
   "cell_type": "code",
   "execution_count": 2,
   "metadata": {},
   "outputs": [],
   "source": [
    "# Creamos un DataFrame de nuestros datos.\n",
    "credit_card_data = pd.read_excel('../data/raw_data.xlsx')"
   ]
  },
  {
   "cell_type": "markdown",
   "metadata": {},
   "source": [
    "1. Select all the data from table `credit_card_data` to check if the data was imported correctly."
   ]
  },
  {
   "cell_type": "code",
   "execution_count": 3,
   "metadata": {},
   "outputs": [
    {
     "data": {
      "text/html": [
       "<div>\n",
       "<style scoped>\n",
       "    .dataframe tbody tr th:only-of-type {\n",
       "        vertical-align: middle;\n",
       "    }\n",
       "\n",
       "    .dataframe tbody tr th {\n",
       "        vertical-align: top;\n",
       "    }\n",
       "\n",
       "    .dataframe thead th {\n",
       "        text-align: right;\n",
       "    }\n",
       "</style>\n",
       "<table border=\"1\" class=\"dataframe\">\n",
       "  <thead>\n",
       "    <tr style=\"text-align: right;\">\n",
       "      <th></th>\n",
       "      <th>Customer Number</th>\n",
       "      <th>Offer Accepted</th>\n",
       "      <th>Reward</th>\n",
       "      <th>Mailer Type</th>\n",
       "      <th>Income Level</th>\n",
       "      <th># Bank Accounts Open</th>\n",
       "      <th>Overdraft Protection</th>\n",
       "      <th>Credit Rating</th>\n",
       "      <th># Credit Cards Held</th>\n",
       "      <th># Homes Owned</th>\n",
       "      <th>Household Size</th>\n",
       "      <th>Own Your Home</th>\n",
       "      <th>Average Balance</th>\n",
       "      <th>Q1 Balance</th>\n",
       "      <th>Q2 Balance</th>\n",
       "      <th>Q3 Balance</th>\n",
       "      <th>Q4 Balance</th>\n",
       "    </tr>\n",
       "  </thead>\n",
       "  <tbody>\n",
       "    <tr>\n",
       "      <th>0</th>\n",
       "      <td>1</td>\n",
       "      <td>No</td>\n",
       "      <td>Air Miles</td>\n",
       "      <td>Letter</td>\n",
       "      <td>High</td>\n",
       "      <td>1</td>\n",
       "      <td>No</td>\n",
       "      <td>High</td>\n",
       "      <td>2</td>\n",
       "      <td>1</td>\n",
       "      <td>4</td>\n",
       "      <td>No</td>\n",
       "      <td>1160.75</td>\n",
       "      <td>1669.0</td>\n",
       "      <td>877.0</td>\n",
       "      <td>1095.0</td>\n",
       "      <td>1002.0</td>\n",
       "    </tr>\n",
       "    <tr>\n",
       "      <th>1</th>\n",
       "      <td>2</td>\n",
       "      <td>No</td>\n",
       "      <td>Air Miles</td>\n",
       "      <td>Letter</td>\n",
       "      <td>Medium</td>\n",
       "      <td>1</td>\n",
       "      <td>No</td>\n",
       "      <td>Medium</td>\n",
       "      <td>2</td>\n",
       "      <td>2</td>\n",
       "      <td>5</td>\n",
       "      <td>Yes</td>\n",
       "      <td>147.25</td>\n",
       "      <td>39.0</td>\n",
       "      <td>106.0</td>\n",
       "      <td>78.0</td>\n",
       "      <td>366.0</td>\n",
       "    </tr>\n",
       "    <tr>\n",
       "      <th>2</th>\n",
       "      <td>3</td>\n",
       "      <td>No</td>\n",
       "      <td>Air Miles</td>\n",
       "      <td>Postcard</td>\n",
       "      <td>High</td>\n",
       "      <td>2</td>\n",
       "      <td>No</td>\n",
       "      <td>Medium</td>\n",
       "      <td>2</td>\n",
       "      <td>1</td>\n",
       "      <td>2</td>\n",
       "      <td>Yes</td>\n",
       "      <td>276.50</td>\n",
       "      <td>367.0</td>\n",
       "      <td>352.0</td>\n",
       "      <td>145.0</td>\n",
       "      <td>242.0</td>\n",
       "    </tr>\n",
       "    <tr>\n",
       "      <th>3</th>\n",
       "      <td>4</td>\n",
       "      <td>No</td>\n",
       "      <td>Air Miles</td>\n",
       "      <td>Letter</td>\n",
       "      <td>Medium</td>\n",
       "      <td>2</td>\n",
       "      <td>No</td>\n",
       "      <td>High</td>\n",
       "      <td>1</td>\n",
       "      <td>1</td>\n",
       "      <td>4</td>\n",
       "      <td>No</td>\n",
       "      <td>1219.00</td>\n",
       "      <td>1578.0</td>\n",
       "      <td>1760.0</td>\n",
       "      <td>1119.0</td>\n",
       "      <td>419.0</td>\n",
       "    </tr>\n",
       "    <tr>\n",
       "      <th>4</th>\n",
       "      <td>5</td>\n",
       "      <td>No</td>\n",
       "      <td>Air Miles</td>\n",
       "      <td>Letter</td>\n",
       "      <td>Medium</td>\n",
       "      <td>1</td>\n",
       "      <td>No</td>\n",
       "      <td>Medium</td>\n",
       "      <td>2</td>\n",
       "      <td>1</td>\n",
       "      <td>6</td>\n",
       "      <td>Yes</td>\n",
       "      <td>1211.00</td>\n",
       "      <td>2140.0</td>\n",
       "      <td>1357.0</td>\n",
       "      <td>982.0</td>\n",
       "      <td>365.0</td>\n",
       "    </tr>\n",
       "    <tr>\n",
       "      <th>...</th>\n",
       "      <td>...</td>\n",
       "      <td>...</td>\n",
       "      <td>...</td>\n",
       "      <td>...</td>\n",
       "      <td>...</td>\n",
       "      <td>...</td>\n",
       "      <td>...</td>\n",
       "      <td>...</td>\n",
       "      <td>...</td>\n",
       "      <td>...</td>\n",
       "      <td>...</td>\n",
       "      <td>...</td>\n",
       "      <td>...</td>\n",
       "      <td>...</td>\n",
       "      <td>...</td>\n",
       "      <td>...</td>\n",
       "      <td>...</td>\n",
       "    </tr>\n",
       "    <tr>\n",
       "      <th>17995</th>\n",
       "      <td>17996</td>\n",
       "      <td>No</td>\n",
       "      <td>Cash Back</td>\n",
       "      <td>Letter</td>\n",
       "      <td>High</td>\n",
       "      <td>1</td>\n",
       "      <td>No</td>\n",
       "      <td>Low</td>\n",
       "      <td>1</td>\n",
       "      <td>1</td>\n",
       "      <td>5</td>\n",
       "      <td>Yes</td>\n",
       "      <td>167.50</td>\n",
       "      <td>136.0</td>\n",
       "      <td>65.0</td>\n",
       "      <td>71.0</td>\n",
       "      <td>398.0</td>\n",
       "    </tr>\n",
       "    <tr>\n",
       "      <th>17996</th>\n",
       "      <td>17997</td>\n",
       "      <td>No</td>\n",
       "      <td>Cash Back</td>\n",
       "      <td>Letter</td>\n",
       "      <td>High</td>\n",
       "      <td>1</td>\n",
       "      <td>No</td>\n",
       "      <td>Low</td>\n",
       "      <td>3</td>\n",
       "      <td>1</td>\n",
       "      <td>3</td>\n",
       "      <td>Yes</td>\n",
       "      <td>850.50</td>\n",
       "      <td>984.0</td>\n",
       "      <td>940.0</td>\n",
       "      <td>943.0</td>\n",
       "      <td>535.0</td>\n",
       "    </tr>\n",
       "    <tr>\n",
       "      <th>17997</th>\n",
       "      <td>17998</td>\n",
       "      <td>No</td>\n",
       "      <td>Cash Back</td>\n",
       "      <td>Letter</td>\n",
       "      <td>High</td>\n",
       "      <td>1</td>\n",
       "      <td>No</td>\n",
       "      <td>Low</td>\n",
       "      <td>2</td>\n",
       "      <td>1</td>\n",
       "      <td>4</td>\n",
       "      <td>No</td>\n",
       "      <td>1087.25</td>\n",
       "      <td>918.0</td>\n",
       "      <td>767.0</td>\n",
       "      <td>1170.0</td>\n",
       "      <td>1494.0</td>\n",
       "    </tr>\n",
       "    <tr>\n",
       "      <th>17998</th>\n",
       "      <td>17999</td>\n",
       "      <td>No</td>\n",
       "      <td>Cash Back</td>\n",
       "      <td>Letter</td>\n",
       "      <td>Medium</td>\n",
       "      <td>1</td>\n",
       "      <td>No</td>\n",
       "      <td>Medium</td>\n",
       "      <td>4</td>\n",
       "      <td>2</td>\n",
       "      <td>2</td>\n",
       "      <td>Yes</td>\n",
       "      <td>1022.25</td>\n",
       "      <td>626.0</td>\n",
       "      <td>983.0</td>\n",
       "      <td>865.0</td>\n",
       "      <td>1615.0</td>\n",
       "    </tr>\n",
       "    <tr>\n",
       "      <th>17999</th>\n",
       "      <td>18000</td>\n",
       "      <td>No</td>\n",
       "      <td>Cash Back</td>\n",
       "      <td>Letter</td>\n",
       "      <td>Low</td>\n",
       "      <td>2</td>\n",
       "      <td>No</td>\n",
       "      <td>Medium</td>\n",
       "      <td>2</td>\n",
       "      <td>1</td>\n",
       "      <td>3</td>\n",
       "      <td>No</td>\n",
       "      <td>1056.00</td>\n",
       "      <td>265.0</td>\n",
       "      <td>1378.0</td>\n",
       "      <td>1978.0</td>\n",
       "      <td>603.0</td>\n",
       "    </tr>\n",
       "  </tbody>\n",
       "</table>\n",
       "<p>18000 rows × 17 columns</p>\n",
       "</div>"
      ],
      "text/plain": [
       "       Customer Number Offer Accepted     Reward Mailer Type Income Level  \\\n",
       "0                    1             No  Air Miles      Letter         High   \n",
       "1                    2             No  Air Miles      Letter       Medium   \n",
       "2                    3             No  Air Miles    Postcard         High   \n",
       "3                    4             No  Air Miles      Letter       Medium   \n",
       "4                    5             No  Air Miles      Letter       Medium   \n",
       "...                ...            ...        ...         ...          ...   \n",
       "17995            17996             No  Cash Back      Letter         High   \n",
       "17996            17997             No  Cash Back      Letter         High   \n",
       "17997            17998             No  Cash Back      Letter         High   \n",
       "17998            17999             No  Cash Back      Letter       Medium   \n",
       "17999            18000             No  Cash Back      Letter          Low   \n",
       "\n",
       "       # Bank Accounts Open Overdraft Protection Credit Rating  \\\n",
       "0                         1                   No          High   \n",
       "1                         1                   No        Medium   \n",
       "2                         2                   No        Medium   \n",
       "3                         2                   No          High   \n",
       "4                         1                   No        Medium   \n",
       "...                     ...                  ...           ...   \n",
       "17995                     1                   No           Low   \n",
       "17996                     1                   No           Low   \n",
       "17997                     1                   No           Low   \n",
       "17998                     1                   No        Medium   \n",
       "17999                     2                   No        Medium   \n",
       "\n",
       "       # Credit Cards Held  # Homes Owned  Household Size Own Your Home  \\\n",
       "0                        2              1               4            No   \n",
       "1                        2              2               5           Yes   \n",
       "2                        2              1               2           Yes   \n",
       "3                        1              1               4            No   \n",
       "4                        2              1               6           Yes   \n",
       "...                    ...            ...             ...           ...   \n",
       "17995                    1              1               5           Yes   \n",
       "17996                    3              1               3           Yes   \n",
       "17997                    2              1               4            No   \n",
       "17998                    4              2               2           Yes   \n",
       "17999                    2              1               3            No   \n",
       "\n",
       "       Average Balance  Q1 Balance  Q2 Balance  Q3 Balance  Q4 Balance  \n",
       "0              1160.75      1669.0       877.0      1095.0      1002.0  \n",
       "1               147.25        39.0       106.0        78.0       366.0  \n",
       "2               276.50       367.0       352.0       145.0       242.0  \n",
       "3              1219.00      1578.0      1760.0      1119.0       419.0  \n",
       "4              1211.00      2140.0      1357.0       982.0       365.0  \n",
       "...                ...         ...         ...         ...         ...  \n",
       "17995           167.50       136.0        65.0        71.0       398.0  \n",
       "17996           850.50       984.0       940.0       943.0       535.0  \n",
       "17997          1087.25       918.0       767.0      1170.0      1494.0  \n",
       "17998          1022.25       626.0       983.0       865.0      1615.0  \n",
       "17999          1056.00       265.0      1378.0      1978.0       603.0  \n",
       "\n",
       "[18000 rows x 17 columns]"
      ]
     },
     "execution_count": 3,
     "metadata": {},
     "output_type": "execute_result"
    }
   ],
   "source": [
    "credit_card_data"
   ]
  },
  {
   "cell_type": "markdown",
   "metadata": {},
   "source": [
    "2.  Select all the data from the table to verify if the command worked. Limit your returned results to 10."
   ]
  },
  {
   "cell_type": "code",
   "execution_count": 4,
   "metadata": {},
   "outputs": [
    {
     "data": {
      "text/html": [
       "<div>\n",
       "<style scoped>\n",
       "    .dataframe tbody tr th:only-of-type {\n",
       "        vertical-align: middle;\n",
       "    }\n",
       "\n",
       "    .dataframe tbody tr th {\n",
       "        vertical-align: top;\n",
       "    }\n",
       "\n",
       "    .dataframe thead th {\n",
       "        text-align: right;\n",
       "    }\n",
       "</style>\n",
       "<table border=\"1\" class=\"dataframe\">\n",
       "  <thead>\n",
       "    <tr style=\"text-align: right;\">\n",
       "      <th></th>\n",
       "      <th>Customer Number</th>\n",
       "      <th>Offer Accepted</th>\n",
       "      <th>Reward</th>\n",
       "      <th>Mailer Type</th>\n",
       "      <th>Income Level</th>\n",
       "      <th># Bank Accounts Open</th>\n",
       "      <th>Overdraft Protection</th>\n",
       "      <th>Credit Rating</th>\n",
       "      <th># Credit Cards Held</th>\n",
       "      <th># Homes Owned</th>\n",
       "      <th>Household Size</th>\n",
       "      <th>Own Your Home</th>\n",
       "      <th>Average Balance</th>\n",
       "      <th>Q1 Balance</th>\n",
       "      <th>Q2 Balance</th>\n",
       "      <th>Q3 Balance</th>\n",
       "      <th>Q4 Balance</th>\n",
       "    </tr>\n",
       "  </thead>\n",
       "  <tbody>\n",
       "    <tr>\n",
       "      <th>0</th>\n",
       "      <td>1</td>\n",
       "      <td>No</td>\n",
       "      <td>Air Miles</td>\n",
       "      <td>Letter</td>\n",
       "      <td>High</td>\n",
       "      <td>1</td>\n",
       "      <td>No</td>\n",
       "      <td>High</td>\n",
       "      <td>2</td>\n",
       "      <td>1</td>\n",
       "      <td>4</td>\n",
       "      <td>No</td>\n",
       "      <td>1160.75</td>\n",
       "      <td>1669.0</td>\n",
       "      <td>877.0</td>\n",
       "      <td>1095.0</td>\n",
       "      <td>1002.0</td>\n",
       "    </tr>\n",
       "    <tr>\n",
       "      <th>1</th>\n",
       "      <td>2</td>\n",
       "      <td>No</td>\n",
       "      <td>Air Miles</td>\n",
       "      <td>Letter</td>\n",
       "      <td>Medium</td>\n",
       "      <td>1</td>\n",
       "      <td>No</td>\n",
       "      <td>Medium</td>\n",
       "      <td>2</td>\n",
       "      <td>2</td>\n",
       "      <td>5</td>\n",
       "      <td>Yes</td>\n",
       "      <td>147.25</td>\n",
       "      <td>39.0</td>\n",
       "      <td>106.0</td>\n",
       "      <td>78.0</td>\n",
       "      <td>366.0</td>\n",
       "    </tr>\n",
       "    <tr>\n",
       "      <th>2</th>\n",
       "      <td>3</td>\n",
       "      <td>No</td>\n",
       "      <td>Air Miles</td>\n",
       "      <td>Postcard</td>\n",
       "      <td>High</td>\n",
       "      <td>2</td>\n",
       "      <td>No</td>\n",
       "      <td>Medium</td>\n",
       "      <td>2</td>\n",
       "      <td>1</td>\n",
       "      <td>2</td>\n",
       "      <td>Yes</td>\n",
       "      <td>276.50</td>\n",
       "      <td>367.0</td>\n",
       "      <td>352.0</td>\n",
       "      <td>145.0</td>\n",
       "      <td>242.0</td>\n",
       "    </tr>\n",
       "    <tr>\n",
       "      <th>3</th>\n",
       "      <td>4</td>\n",
       "      <td>No</td>\n",
       "      <td>Air Miles</td>\n",
       "      <td>Letter</td>\n",
       "      <td>Medium</td>\n",
       "      <td>2</td>\n",
       "      <td>No</td>\n",
       "      <td>High</td>\n",
       "      <td>1</td>\n",
       "      <td>1</td>\n",
       "      <td>4</td>\n",
       "      <td>No</td>\n",
       "      <td>1219.00</td>\n",
       "      <td>1578.0</td>\n",
       "      <td>1760.0</td>\n",
       "      <td>1119.0</td>\n",
       "      <td>419.0</td>\n",
       "    </tr>\n",
       "    <tr>\n",
       "      <th>4</th>\n",
       "      <td>5</td>\n",
       "      <td>No</td>\n",
       "      <td>Air Miles</td>\n",
       "      <td>Letter</td>\n",
       "      <td>Medium</td>\n",
       "      <td>1</td>\n",
       "      <td>No</td>\n",
       "      <td>Medium</td>\n",
       "      <td>2</td>\n",
       "      <td>1</td>\n",
       "      <td>6</td>\n",
       "      <td>Yes</td>\n",
       "      <td>1211.00</td>\n",
       "      <td>2140.0</td>\n",
       "      <td>1357.0</td>\n",
       "      <td>982.0</td>\n",
       "      <td>365.0</td>\n",
       "    </tr>\n",
       "    <tr>\n",
       "      <th>5</th>\n",
       "      <td>6</td>\n",
       "      <td>No</td>\n",
       "      <td>Air Miles</td>\n",
       "      <td>Letter</td>\n",
       "      <td>Medium</td>\n",
       "      <td>1</td>\n",
       "      <td>No</td>\n",
       "      <td>High</td>\n",
       "      <td>3</td>\n",
       "      <td>1</td>\n",
       "      <td>4</td>\n",
       "      <td>No</td>\n",
       "      <td>1114.75</td>\n",
       "      <td>1847.0</td>\n",
       "      <td>1365.0</td>\n",
       "      <td>750.0</td>\n",
       "      <td>497.0</td>\n",
       "    </tr>\n",
       "    <tr>\n",
       "      <th>6</th>\n",
       "      <td>7</td>\n",
       "      <td>No</td>\n",
       "      <td>Air Miles</td>\n",
       "      <td>Letter</td>\n",
       "      <td>Medium</td>\n",
       "      <td>1</td>\n",
       "      <td>No</td>\n",
       "      <td>Medium</td>\n",
       "      <td>2</td>\n",
       "      <td>1</td>\n",
       "      <td>3</td>\n",
       "      <td>No</td>\n",
       "      <td>283.75</td>\n",
       "      <td>468.0</td>\n",
       "      <td>188.0</td>\n",
       "      <td>347.0</td>\n",
       "      <td>132.0</td>\n",
       "    </tr>\n",
       "    <tr>\n",
       "      <th>7</th>\n",
       "      <td>8</td>\n",
       "      <td>No</td>\n",
       "      <td>Cash Back</td>\n",
       "      <td>Postcard</td>\n",
       "      <td>Low</td>\n",
       "      <td>1</td>\n",
       "      <td>No</td>\n",
       "      <td>Medium</td>\n",
       "      <td>4</td>\n",
       "      <td>1</td>\n",
       "      <td>4</td>\n",
       "      <td>Yes</td>\n",
       "      <td>278.50</td>\n",
       "      <td>132.0</td>\n",
       "      <td>391.0</td>\n",
       "      <td>285.0</td>\n",
       "      <td>306.0</td>\n",
       "    </tr>\n",
       "    <tr>\n",
       "      <th>8</th>\n",
       "      <td>9</td>\n",
       "      <td>No</td>\n",
       "      <td>Air Miles</td>\n",
       "      <td>Postcard</td>\n",
       "      <td>Medium</td>\n",
       "      <td>1</td>\n",
       "      <td>No</td>\n",
       "      <td>Low</td>\n",
       "      <td>2</td>\n",
       "      <td>1</td>\n",
       "      <td>4</td>\n",
       "      <td>Yes</td>\n",
       "      <td>1005.00</td>\n",
       "      <td>894.0</td>\n",
       "      <td>891.0</td>\n",
       "      <td>882.0</td>\n",
       "      <td>1353.0</td>\n",
       "    </tr>\n",
       "    <tr>\n",
       "      <th>9</th>\n",
       "      <td>10</td>\n",
       "      <td>No</td>\n",
       "      <td>Air Miles</td>\n",
       "      <td>Letter</td>\n",
       "      <td>High</td>\n",
       "      <td>2</td>\n",
       "      <td>No</td>\n",
       "      <td>Low</td>\n",
       "      <td>3</td>\n",
       "      <td>2</td>\n",
       "      <td>4</td>\n",
       "      <td>Yes</td>\n",
       "      <td>974.25</td>\n",
       "      <td>1814.0</td>\n",
       "      <td>1454.0</td>\n",
       "      <td>514.0</td>\n",
       "      <td>115.0</td>\n",
       "    </tr>\n",
       "  </tbody>\n",
       "</table>\n",
       "</div>"
      ],
      "text/plain": [
       "   Customer Number Offer Accepted     Reward Mailer Type Income Level  \\\n",
       "0                1             No  Air Miles      Letter         High   \n",
       "1                2             No  Air Miles      Letter       Medium   \n",
       "2                3             No  Air Miles    Postcard         High   \n",
       "3                4             No  Air Miles      Letter       Medium   \n",
       "4                5             No  Air Miles      Letter       Medium   \n",
       "5                6             No  Air Miles      Letter       Medium   \n",
       "6                7             No  Air Miles      Letter       Medium   \n",
       "7                8             No  Cash Back    Postcard          Low   \n",
       "8                9             No  Air Miles    Postcard       Medium   \n",
       "9               10             No  Air Miles      Letter         High   \n",
       "\n",
       "   # Bank Accounts Open Overdraft Protection Credit Rating  \\\n",
       "0                     1                   No          High   \n",
       "1                     1                   No        Medium   \n",
       "2                     2                   No        Medium   \n",
       "3                     2                   No          High   \n",
       "4                     1                   No        Medium   \n",
       "5                     1                   No          High   \n",
       "6                     1                   No        Medium   \n",
       "7                     1                   No        Medium   \n",
       "8                     1                   No           Low   \n",
       "9                     2                   No           Low   \n",
       "\n",
       "   # Credit Cards Held  # Homes Owned  Household Size Own Your Home  \\\n",
       "0                    2              1               4            No   \n",
       "1                    2              2               5           Yes   \n",
       "2                    2              1               2           Yes   \n",
       "3                    1              1               4            No   \n",
       "4                    2              1               6           Yes   \n",
       "5                    3              1               4            No   \n",
       "6                    2              1               3            No   \n",
       "7                    4              1               4           Yes   \n",
       "8                    2              1               4           Yes   \n",
       "9                    3              2               4           Yes   \n",
       "\n",
       "   Average Balance  Q1 Balance  Q2 Balance  Q3 Balance  Q4 Balance  \n",
       "0          1160.75      1669.0       877.0      1095.0      1002.0  \n",
       "1           147.25        39.0       106.0        78.0       366.0  \n",
       "2           276.50       367.0       352.0       145.0       242.0  \n",
       "3          1219.00      1578.0      1760.0      1119.0       419.0  \n",
       "4          1211.00      2140.0      1357.0       982.0       365.0  \n",
       "5          1114.75      1847.0      1365.0       750.0       497.0  \n",
       "6           283.75       468.0       188.0       347.0       132.0  \n",
       "7           278.50       132.0       391.0       285.0       306.0  \n",
       "8          1005.00       894.0       891.0       882.0      1353.0  \n",
       "9           974.25      1814.0      1454.0       514.0       115.0  "
      ]
     },
     "execution_count": 4,
     "metadata": {},
     "output_type": "execute_result"
    }
   ],
   "source": [
    "credit_card_data.head(10)"
   ]
  },
  {
   "cell_type": "markdown",
   "metadata": {},
   "source": [
    "3.  Use code to find how many rows of data you have."
   ]
  },
  {
   "cell_type": "code",
   "execution_count": 5,
   "metadata": {},
   "outputs": [
    {
     "data": {
      "text/plain": [
       "(18000, 17)"
      ]
     },
     "execution_count": 5,
     "metadata": {},
     "output_type": "execute_result"
    }
   ],
   "source": [
    "credit_card_data.shape\n",
    "#1800 es el número de filas y 17 el número de columnas."
   ]
  },
  {
   "cell_type": "markdown",
   "metadata": {},
   "source": [
    "4.  Now find the unique values in some of columns:\n",
    "\n",
    "    - What are the unique values in the column `Offer Accepted`?\n",
    "    - What are the unique values in the column `Reward`?\n",
    "    - What are the unique values in the column `Mailer Type`?\n",
    "    - What are the unique values in the column `# Credit Cards Held`?\n",
    "    - What are the unique values in the column `household_size`?"
   ]
  },
  {
   "cell_type": "code",
   "execution_count": 6,
   "metadata": {},
   "outputs": [
    {
     "data": {
      "text/plain": [
       "array(['No', 'Yes'], dtype=object)"
      ]
     },
     "execution_count": 6,
     "metadata": {},
     "output_type": "execute_result"
    }
   ],
   "source": [
    "credit_card_data['Offer Accepted'].unique()\n",
    "#Los valores únicos de la columna 'Offer Accepted' son 'Yes' y 'No'."
   ]
  },
  {
   "cell_type": "code",
   "execution_count": 7,
   "metadata": {},
   "outputs": [
    {
     "data": {
      "text/plain": [
       "array(['Air Miles', 'Cash Back', 'Points'], dtype=object)"
      ]
     },
     "execution_count": 7,
     "metadata": {},
     "output_type": "execute_result"
    }
   ],
   "source": [
    "credit_card_data['Reward'].unique()\n",
    "#Los valores únicos de la columna 'Reward' son 'Air Miles', 'Cash Back' y 'Points'."
   ]
  },
  {
   "cell_type": "code",
   "execution_count": 8,
   "metadata": {},
   "outputs": [
    {
     "data": {
      "text/plain": [
       "array(['Letter', 'Postcard'], dtype=object)"
      ]
     },
     "execution_count": 8,
     "metadata": {},
     "output_type": "execute_result"
    }
   ],
   "source": [
    "credit_card_data['Mailer Type'].unique()\n",
    "#Los valores únicos de la columna 'Mailer Type' son 'Letter' y 'Postcard'."
   ]
  },
  {
   "cell_type": "code",
   "execution_count": 9,
   "metadata": {},
   "outputs": [
    {
     "data": {
      "text/plain": [
       "array([2, 1, 3, 4], dtype=int64)"
      ]
     },
     "execution_count": 9,
     "metadata": {},
     "output_type": "execute_result"
    }
   ],
   "source": [
    "credit_card_data['# Credit Cards Held'].unique()\n",
    "#Los valores únicos de la volumna '# Credit Cards Held' son '1', '2', '3' y '4'."
   ]
  },
  {
   "cell_type": "code",
   "execution_count": 10,
   "metadata": {},
   "outputs": [
    {
     "data": {
      "text/plain": [
       "array([4, 5, 2, 6, 3, 1, 8, 9], dtype=int64)"
      ]
     },
     "execution_count": 10,
     "metadata": {},
     "output_type": "execute_result"
    }
   ],
   "source": [
    "credit_card_data['Household Size'].unique()\n",
    "#Los valores únicos de la volumna 'Household Size' son '1', '2', '3', '4', '5', '6', '8' y '9'."
   ]
  },
  {
   "cell_type": "markdown",
   "metadata": {},
   "source": [
    "5.  Arrange the data in decreasing order by the `average_balance`. Return only the `customer_number` of the top 10 customers with the highest `average_balances` in your data."
   ]
  },
  {
   "cell_type": "code",
   "execution_count": 11,
   "metadata": {},
   "outputs": [
    {
     "data": {
      "text/plain": [
       "2296      2297\n",
       "12635    12636\n",
       "8887      8888\n",
       "10576    10577\n",
       "14003    14004\n",
       "10475    10476\n",
       "2655      2656\n",
       "15259    15260\n",
       "15608    15609\n",
       "8777      8778\n",
       "Name: Customer Number, dtype: int64"
      ]
     },
     "execution_count": 11,
     "metadata": {},
     "output_type": "execute_result"
    }
   ],
   "source": [
    "#Utilizamos la función .sort_values() para ordenar de forma ascendente y marcamos la propiedad ascending=False para ordenarlo de manera decreciente. \n",
    "#Además, inplace=True nos modifica directamente el DataFrame e imprimimos los diez primeros clientes.\n",
    "credit_card_data.sort_values('Average Balance', ascending=False, inplace=True)\n",
    "credit_card_data['Customer Number'].head(10)"
   ]
  },
  {
   "cell_type": "markdown",
   "metadata": {},
   "source": [
    "6.  What is the average of `Average Balance` of all the customers in your data?"
   ]
  },
  {
   "cell_type": "code",
   "execution_count": 12,
   "metadata": {},
   "outputs": [
    {
     "name": "stdout",
     "output_type": "stream",
     "text": [
      "La media de la columna 'Average Balance' es  940.5155624165554 .\n"
     ]
    }
   ],
   "source": [
    "media=credit_card_data['Average Balance'].mean()\n",
    "print('La media de la columna \\'Average Balance\\' es ', media, '.')"
   ]
  },
  {
   "cell_type": "markdown",
   "metadata": {},
   "source": [
    "7. In this exercise use  `groupby` to check the properties of some of the categorical variables in our data. Note wherever `average_balance` is asked in the questions below, please take the average of the column `average_balance`. Show the results in a data frame and a plot. \n",
    "\n",
    "    - What is the average balance of the customers grouped by `Income Level`? The returned result should have only two columns, `Income` and `Average Balance` of the customers. \n",
    "    - What is the average balance of the customers grouped by `number_of_bank_accounts_open`? The returned result should have only two columns, `number_of_bank_aaccounts_open` and `Average Balance` of the customers. \n",
    "    - What is the average number of credit cards held by customers for each of the credit card ratings? The returned result should have only two columns, `rating` and `average number of credit cards`.\n",
    "    - Is there any correlation between the columns `credit_cards_held` and `number_of_bank_accounts_open`? You can analyze this by grouping the data by one of the variables and then aggregating the results of the other column. Visually check if there is a positive correlation or negative correlation or no correlation between the variables.\n",
    "    - Check the number of customers in each category (ie number of credit cards held) to assess if that category is well represented in the dataset to include it in your analysis. For eg. If the category is under-represented as compared to other categories, ignore that category in this analysis."
   ]
  },
  {
   "cell_type": "code",
   "execution_count": 13,
   "metadata": {},
   "outputs": [
    {
     "data": {
      "text/html": [
       "<div>\n",
       "<style scoped>\n",
       "    .dataframe tbody tr th:only-of-type {\n",
       "        vertical-align: middle;\n",
       "    }\n",
       "\n",
       "    .dataframe tbody tr th {\n",
       "        vertical-align: top;\n",
       "    }\n",
       "\n",
       "    .dataframe thead th {\n",
       "        text-align: right;\n",
       "    }\n",
       "</style>\n",
       "<table border=\"1\" class=\"dataframe\">\n",
       "  <thead>\n",
       "    <tr style=\"text-align: right;\">\n",
       "      <th></th>\n",
       "      <th>Average Balance</th>\n",
       "    </tr>\n",
       "    <tr>\n",
       "      <th>Income Level</th>\n",
       "      <th></th>\n",
       "    </tr>\n",
       "  </thead>\n",
       "  <tbody>\n",
       "    <tr>\n",
       "      <th>High</th>\n",
       "      <td>942.574021</td>\n",
       "    </tr>\n",
       "    <tr>\n",
       "      <th>Low</th>\n",
       "      <td>937.664983</td>\n",
       "    </tr>\n",
       "    <tr>\n",
       "      <th>Medium</th>\n",
       "      <td>940.892940</td>\n",
       "    </tr>\n",
       "  </tbody>\n",
       "</table>\n",
       "</div>"
      ],
      "text/plain": [
       "              Average Balance\n",
       "Income Level                 \n",
       "High               942.574021\n",
       "Low                937.664983\n",
       "Medium             940.892940"
      ]
     },
     "execution_count": 13,
     "metadata": {},
     "output_type": "execute_result"
    }
   ],
   "source": [
    "#APARTADO 1.\n",
    "credit_card_data.groupby('Income Level')[['Average Balance']].mean()"
   ]
  },
  {
   "cell_type": "code",
   "execution_count": 14,
   "metadata": {},
   "outputs": [
    {
     "data": {
      "text/plain": [
       "<BarContainer object of 3 artists>"
      ]
     },
     "execution_count": 14,
     "metadata": {},
     "output_type": "execute_result"
    },
    {
     "data": {
      "image/png": "[encoded data removed]",
      "text/plain": [
       "<Figure size 432x288 with 1 Axes>"
      ]
     },
     "metadata": {
      "needs_background": "light"
     },
     "output_type": "display_data"
    }
   ],
   "source": [
    "x=credit_card_data['Income Level'].unique().tolist()\n",
    "y=[]\n",
    "for i in range(len(x)):\n",
    "    aux=credit_card_data[credit_card_data['Income Level'] == x[i]]\n",
    "    y.append(aux['Average Balance'].mean())\n",
    "plt.bar(x, y)\n",
    "#Podemos observar que los valores de las medias son muy similares."
   ]
  },
  {
   "cell_type": "code",
   "execution_count": 15,
   "metadata": {},
   "outputs": [
    {
     "data": {
      "text/html": [
       "<div>\n",
       "<style scoped>\n",
       "    .dataframe tbody tr th:only-of-type {\n",
       "        vertical-align: middle;\n",
       "    }\n",
       "\n",
       "    .dataframe tbody tr th {\n",
       "        vertical-align: top;\n",
       "    }\n",
       "\n",
       "    .dataframe thead th {\n",
       "        text-align: right;\n",
       "    }\n",
       "</style>\n",
       "<table border=\"1\" class=\"dataframe\">\n",
       "  <thead>\n",
       "    <tr style=\"text-align: right;\">\n",
       "      <th></th>\n",
       "      <th>Average Balance</th>\n",
       "    </tr>\n",
       "    <tr>\n",
       "      <th># Bank Accounts Open</th>\n",
       "      <th></th>\n",
       "    </tr>\n",
       "  </thead>\n",
       "  <tbody>\n",
       "    <tr>\n",
       "      <th>1</th>\n",
       "      <td>941.533604</td>\n",
       "    </tr>\n",
       "    <tr>\n",
       "      <th>2</th>\n",
       "      <td>936.469491</td>\n",
       "    </tr>\n",
       "    <tr>\n",
       "      <th>3</th>\n",
       "      <td>948.284746</td>\n",
       "    </tr>\n",
       "  </tbody>\n",
       "</table>\n",
       "</div>"
      ],
      "text/plain": [
       "                      Average Balance\n",
       "# Bank Accounts Open                 \n",
       "1                          941.533604\n",
       "2                          936.469491\n",
       "3                          948.284746"
      ]
     },
     "execution_count": 15,
     "metadata": {},
     "output_type": "execute_result"
    }
   ],
   "source": [
    "#APARTADO 2.\n",
    "credit_card_data.groupby('# Bank Accounts Open')[['Average Balance']].mean()"
   ]
  },
  {
   "cell_type": "code",
   "execution_count": 16,
   "metadata": {},
   "outputs": [
    {
     "data": {
      "text/plain": [
       "<BarContainer object of 3 artists>"
      ]
     },
     "execution_count": 16,
     "metadata": {},
     "output_type": "execute_result"
    },
    {
     "data": {
      "image/png": "[encoded data removed]",
      "text/plain": [
       "<Figure size 432x288 with 1 Axes>"
      ]
     },
     "metadata": {
      "needs_background": "light"
     },
     "output_type": "display_data"
    }
   ],
   "source": [
    "x=credit_card_data['# Bank Accounts Open'].unique().tolist()\n",
    "y=[]\n",
    "for i in range(len(x)):\n",
    "    aux=credit_card_data[credit_card_data['# Bank Accounts Open'] == x[i]]\n",
    "    y.append(aux['Average Balance'].mean())\n",
    "plt.bar(x, y)\n",
    "#De nuevo, podemos observar que los valores son similares."
   ]
  },
  {
   "cell_type": "code",
   "execution_count": 17,
   "metadata": {},
   "outputs": [
    {
     "data": {
      "text/html": [
       "<div>\n",
       "<style scoped>\n",
       "    .dataframe tbody tr th:only-of-type {\n",
       "        vertical-align: middle;\n",
       "    }\n",
       "\n",
       "    .dataframe tbody tr th {\n",
       "        vertical-align: top;\n",
       "    }\n",
       "\n",
       "    .dataframe thead th {\n",
       "        text-align: right;\n",
       "    }\n",
       "</style>\n",
       "<table border=\"1\" class=\"dataframe\">\n",
       "  <thead>\n",
       "    <tr style=\"text-align: right;\">\n",
       "      <th></th>\n",
       "      <th># Credit Cards Held</th>\n",
       "    </tr>\n",
       "    <tr>\n",
       "      <th>Credit Rating</th>\n",
       "      <th></th>\n",
       "    </tr>\n",
       "  </thead>\n",
       "  <tbody>\n",
       "    <tr>\n",
       "      <th>High</th>\n",
       "      <td>1.895240</td>\n",
       "    </tr>\n",
       "    <tr>\n",
       "      <th>Low</th>\n",
       "      <td>1.903811</td>\n",
       "    </tr>\n",
       "    <tr>\n",
       "      <th>Medium</th>\n",
       "      <td>1.911587</td>\n",
       "    </tr>\n",
       "  </tbody>\n",
       "</table>\n",
       "</div>"
      ],
      "text/plain": [
       "               # Credit Cards Held\n",
       "Credit Rating                     \n",
       "High                      1.895240\n",
       "Low                       1.903811\n",
       "Medium                    1.911587"
      ]
     },
     "execution_count": 17,
     "metadata": {},
     "output_type": "execute_result"
    }
   ],
   "source": [
    "#APARTADO 3.\n",
    "credit_card_data.groupby('Credit Rating')[['# Credit Cards Held']].mean()"
   ]
  },
  {
   "cell_type": "code",
   "execution_count": 18,
   "metadata": {},
   "outputs": [
    {
     "data": {
      "text/plain": [
       "<BarContainer object of 3 artists>"
      ]
     },
     "execution_count": 18,
     "metadata": {},
     "output_type": "execute_result"
    },
    {
     "data": {
      "image/png": "[encoded data removed]",
      "text/plain": [
       "<Figure size 432x288 with 1 Axes>"
      ]
     },
     "metadata": {
      "needs_background": "light"
     },
     "output_type": "display_data"
    }
   ],
   "source": [
    "x=credit_card_data['Credit Rating'].unique().tolist()\n",
    "y=[]\n",
    "for i in range(len(x)):\n",
    "    aux=credit_card_data[credit_card_data['Credit Rating'] == x[i]]\n",
    "    y.append(aux['# Credit Cards Held'].mean())\n",
    "plt.bar(x, y)\n",
    "#Vemos que, otra vez, los valores son prácticamente idénticos."
   ]
  },
  {
   "cell_type": "code",
   "execution_count": 19,
   "metadata": {},
   "outputs": [
    {
     "data": {
      "text/plain": [
       "<matplotlib.collections.PathCollection at 0x1dda0147040>"
      ]
     },
     "execution_count": 19,
     "metadata": {},
     "output_type": "execute_result"
    },
    {
     "data": {
      "image/png": "[encoded data removed]",
      "text/plain": [
       "<Figure size 432x288 with 1 Axes>"
      ]
     },
     "metadata": {
      "needs_background": "light"
     },
     "output_type": "display_data"
    }
   ],
   "source": [
    "#APARTADO 4.\n",
    "#Representación visual de la correlación.\n",
    "plt.scatter(credit_card_data['# Credit Cards Held'], credit_card_data['# Bank Accounts Open'])"
   ]
  },
  {
   "cell_type": "code",
   "execution_count": 20,
   "metadata": {},
   "outputs": [
    {
     "data": {
      "text/html": [
       "<div>\n",
       "<style scoped>\n",
       "    .dataframe tbody tr th:only-of-type {\n",
       "        vertical-align: middle;\n",
       "    }\n",
       "\n",
       "    .dataframe tbody tr th {\n",
       "        vertical-align: top;\n",
       "    }\n",
       "\n",
       "    .dataframe thead th {\n",
       "        text-align: right;\n",
       "    }\n",
       "</style>\n",
       "<table border=\"1\" class=\"dataframe\">\n",
       "  <thead>\n",
       "    <tr style=\"text-align: right;\">\n",
       "      <th></th>\n",
       "      <th></th>\n",
       "      <th># Bank Accounts Open</th>\n",
       "    </tr>\n",
       "    <tr>\n",
       "      <th># Credit Cards Held</th>\n",
       "      <th></th>\n",
       "      <th></th>\n",
       "    </tr>\n",
       "  </thead>\n",
       "  <tbody>\n",
       "    <tr>\n",
       "      <th>1</th>\n",
       "      <th># Bank Accounts Open</th>\n",
       "      <td>1.0</td>\n",
       "    </tr>\n",
       "    <tr>\n",
       "      <th>2</th>\n",
       "      <th># Bank Accounts Open</th>\n",
       "      <td>1.0</td>\n",
       "    </tr>\n",
       "    <tr>\n",
       "      <th>3</th>\n",
       "      <th># Bank Accounts Open</th>\n",
       "      <td>1.0</td>\n",
       "    </tr>\n",
       "    <tr>\n",
       "      <th>4</th>\n",
       "      <th># Bank Accounts Open</th>\n",
       "      <td>1.0</td>\n",
       "    </tr>\n",
       "  </tbody>\n",
       "</table>\n",
       "</div>"
      ],
      "text/plain": [
       "                                          # Bank Accounts Open\n",
       "# Credit Cards Held                                           \n",
       "1                   # Bank Accounts Open                   1.0\n",
       "2                   # Bank Accounts Open                   1.0\n",
       "3                   # Bank Accounts Open                   1.0\n",
       "4                   # Bank Accounts Open                   1.0"
      ]
     },
     "execution_count": 20,
     "metadata": {},
     "output_type": "execute_result"
    }
   ],
   "source": [
    "#Representación matemática de la correlación.\n",
    "credit_card_data.groupby('# Credit Cards Held')[['# Bank Accounts Open']].corr()\n",
    "#Viendo los dos resultados que hemos obtenido vemos que la correlación es muy alta, por lo que una variable depende de la otra.\n",
    "#Una de estas columnas podríamos eliminarla ya que ambas aportan la misma información."
   ]
  },
  {
   "cell_type": "code",
   "execution_count": 21,
   "metadata": {},
   "outputs": [
    {
     "data": {
      "text/plain": [
       "Customer Number\n",
       "1        1\n",
       "2        1\n",
       "3        1\n",
       "4        1\n",
       "5        1\n",
       "        ..\n",
       "17996    1\n",
       "17997    1\n",
       "17998    1\n",
       "17999    1\n",
       "18000    1\n",
       "Name: Customer Number, Length: 18000, dtype: int64"
      ]
     },
     "execution_count": 21,
     "metadata": {},
     "output_type": "execute_result"
    }
   ],
   "source": [
    "#APARTADO 5.\n",
    "credit_card_data.groupby('Customer Number')['Customer Number'].count()\n",
    "#La columna 'Customer Number' no nos sirve para nuestro análisis debido a la gran cantidad de categorías."
   ]
  },
  {
   "cell_type": "code",
   "execution_count": 22,
   "metadata": {},
   "outputs": [
    {
     "data": {
      "text/plain": [
       "Offer Accepted\n",
       "No     16977\n",
       "Yes     1023\n",
       "Name: Offer Accepted, dtype: int64"
      ]
     },
     "execution_count": 22,
     "metadata": {},
     "output_type": "execute_result"
    }
   ],
   "source": [
    "credit_card_data.groupby('Offer Accepted')['Offer Accepted'].count()\n",
    "#Esta columna sí nos vale para nuestro análisis. La categoría 'Yes' no está lo suficientemente representada."
   ]
  },
  {
   "cell_type": "code",
   "execution_count": 23,
   "metadata": {},
   "outputs": [
    {
     "data": {
      "text/plain": [
       "<BarContainer object of 2 artists>"
      ]
     },
     "execution_count": 23,
     "metadata": {},
     "output_type": "execute_result"
    },
    {
     "data": {
      "image/png": "[encoded data removed]",
      "text/plain": [
       "<Figure size 432x288 with 1 Axes>"
      ]
     },
     "metadata": {
      "needs_background": "light"
     },
     "output_type": "display_data"
    }
   ],
   "source": [
    "x=credit_card_data['Offer Accepted'].unique().tolist()\n",
    "y=[]\n",
    "for i in range(len(x)):\n",
    "    aux=credit_card_data[credit_card_data['Offer Accepted'] == x[i]]\n",
    "    y.append(aux['Offer Accepted'].count())\n",
    "plt.bar(x, y)\n",
    "#Se puede observar la gran diferencia entre ambas categorías."
   ]
  },
  {
   "cell_type": "code",
   "execution_count": 24,
   "metadata": {},
   "outputs": [
    {
     "data": {
      "text/plain": [
       "Reward\n",
       "Air Miles    6061\n",
       "Cash Back    5999\n",
       "Points       5940\n",
       "Name: Reward, dtype: int64"
      ]
     },
     "execution_count": 24,
     "metadata": {},
     "output_type": "execute_result"
    }
   ],
   "source": [
    "credit_card_data.groupby('Reward')['Reward'].count()\n",
    "#Esta columna sí nos vale para nuestro análisis, todas las categorías están bien representadas."
   ]
  },
  {
   "cell_type": "code",
   "execution_count": 25,
   "metadata": {},
   "outputs": [
    {
     "data": {
      "text/plain": [
       "<BarContainer object of 3 artists>"
      ]
     },
     "execution_count": 25,
     "metadata": {},
     "output_type": "execute_result"
    },
    {
     "data": {
      "image/png": "[encoded data removed]",
      "text/plain": [
       "<Figure size 432x288 with 1 Axes>"
      ]
     },
     "metadata": {
      "needs_background": "light"
     },
     "output_type": "display_data"
    }
   ],
   "source": [
    "x=credit_card_data['Reward'].unique().tolist()\n",
    "y=[]\n",
    "for i in range(len(x)):\n",
    "    aux=credit_card_data[credit_card_data['Reward'] == x[i]]\n",
    "    y.append(aux['Reward'].count())\n",
    "plt.bar(x, y)\n",
    "#Observamos que los valores de cada categoría son parecidos."
   ]
  },
  {
   "cell_type": "code",
   "execution_count": 26,
   "metadata": {},
   "outputs": [
    {
     "data": {
      "text/plain": [
       "Mailer Type\n",
       "Letter      8853\n",
       "Postcard    9147\n",
       "Name: Mailer Type, dtype: int64"
      ]
     },
     "execution_count": 26,
     "metadata": {},
     "output_type": "execute_result"
    }
   ],
   "source": [
    "credit_card_data.groupby('Mailer Type')['Mailer Type'].count()\n",
    "#Esta columna sí nos vale para nuestro análisis, todas las categorías están bien representadas."
   ]
  },
  {
   "cell_type": "code",
   "execution_count": 27,
   "metadata": {},
   "outputs": [
    {
     "data": {
      "text/plain": [
       "<BarContainer object of 2 artists>"
      ]
     },
     "execution_count": 27,
     "metadata": {},
     "output_type": "execute_result"
    },
    {
     "data": {
      "image/png": "[encoded data removed]",
      "text/plain": [
       "<Figure size 432x288 with 1 Axes>"
      ]
     },
     "metadata": {
      "needs_background": "light"
     },
     "output_type": "display_data"
    }
   ],
   "source": [
    "x=credit_card_data['Mailer Type'].unique().tolist()\n",
    "y=[]\n",
    "for i in range(len(x)):\n",
    "    aux=credit_card_data[credit_card_data['Mailer Type'] == x[i]]\n",
    "    y.append(aux['Mailer Type'].count())\n",
    "plt.bar(x, y)\n",
    "#De nuevo, observamos que ambas columnas están equilibradas."
   ]
  },
  {
   "cell_type": "code",
   "execution_count": 28,
   "metadata": {},
   "outputs": [
    {
     "data": {
      "text/plain": [
       "Income Level\n",
       "High      4526\n",
       "Low       4461\n",
       "Medium    9013\n",
       "Name: Income Level, dtype: int64"
      ]
     },
     "execution_count": 28,
     "metadata": {},
     "output_type": "execute_result"
    }
   ],
   "source": [
    "credit_card_data.groupby('Income Level')['Income Level'].count()\n",
    "#Esta columna sí nos vale para nuestro análisis, todas las categorías están bien representadas."
   ]
  },
  {
   "cell_type": "code",
   "execution_count": 29,
   "metadata": {},
   "outputs": [
    {
     "data": {
      "text/plain": [
       "<BarContainer object of 3 artists>"
      ]
     },
     "execution_count": 29,
     "metadata": {},
     "output_type": "execute_result"
    },
    {
     "data": {
      "image/png": "[encoded data removed]",
      "text/plain": [
       "<Figure size 432x288 with 1 Axes>"
      ]
     },
     "metadata": {
      "needs_background": "light"
     },
     "output_type": "display_data"
    }
   ],
   "source": [
    "x=credit_card_data['Income Level'].unique().tolist()\n",
    "y=[]\n",
    "for i in range(len(x)):\n",
    "    aux=credit_card_data[credit_card_data['Income Level'] == x[i]]\n",
    "    y.append(aux['Income Level'].count())\n",
    "plt.bar(x, y)\n",
    "#Aunque haya una barra más grande que el resto, las dos más pequeñas son más o menos iguales entre ellas.\n",
    "#Por eso decimos que todas las categorías están bien representadas."
   ]
  },
  {
   "cell_type": "code",
   "execution_count": 30,
   "metadata": {},
   "outputs": [
    {
     "data": {
      "text/plain": [
       "# Bank Accounts Open\n",
       "1    13692\n",
       "2     4012\n",
       "3      296\n",
       "Name: # Bank Accounts Open, dtype: int64"
      ]
     },
     "execution_count": 30,
     "metadata": {},
     "output_type": "execute_result"
    }
   ],
   "source": [
    "credit_card_data.groupby('# Bank Accounts Open')['# Bank Accounts Open'].count()\n",
    "#Esta columna sí nos vale para nuestro análisis. La categoría '3' no está lo suficientemente representada."
   ]
  },
  {
   "cell_type": "code",
   "execution_count": 31,
   "metadata": {},
   "outputs": [
    {
     "data": {
      "text/plain": [
       "<BarContainer object of 3 artists>"
      ]
     },
     "execution_count": 31,
     "metadata": {},
     "output_type": "execute_result"
    },
    {
     "data": {
      "image/png": "[encoded data removed]",
      "text/plain": [
       "<Figure size 432x288 with 1 Axes>"
      ]
     },
     "metadata": {
      "needs_background": "light"
     },
     "output_type": "display_data"
    }
   ],
   "source": [
    "x=credit_card_data['# Bank Accounts Open'].unique().tolist()\n",
    "y=[]\n",
    "for i in range(len(x)):\n",
    "    aux=credit_card_data[credit_card_data['# Bank Accounts Open'] == x[i]]\n",
    "    y.append(aux['# Bank Accounts Open'].count())\n",
    "plt.bar(x, y)\n",
    "#Vemos que la barra de la categoría '3' está muy baja."
   ]
  },
  {
   "cell_type": "code",
   "execution_count": 32,
   "metadata": {},
   "outputs": [
    {
     "data": {
      "text/plain": [
       "Overdraft Protection\n",
       "No     15322\n",
       "Yes     2678\n",
       "Name: Overdraft Protection, dtype: int64"
      ]
     },
     "execution_count": 32,
     "metadata": {},
     "output_type": "execute_result"
    }
   ],
   "source": [
    "credit_card_data.groupby('Overdraft Protection')['Overdraft Protection'].count()\n",
    "#Esta columna sí nos vale para nuestro análisis. La categoría 'Yes' no está lo suficientmente representada."
   ]
  },
  {
   "cell_type": "code",
   "execution_count": 33,
   "metadata": {},
   "outputs": [
    {
     "data": {
      "text/plain": [
       "<BarContainer object of 2 artists>"
      ]
     },
     "execution_count": 33,
     "metadata": {},
     "output_type": "execute_result"
    },
    {
     "data": {
      "image/png": "[encoded data removed]",
      "text/plain": [
       "<Figure size 432x288 with 1 Axes>"
      ]
     },
     "metadata": {
      "needs_background": "light"
     },
     "output_type": "display_data"
    }
   ],
   "source": [
    "x=credit_card_data['Overdraft Protection'].unique().tolist()\n",
    "y=[]\n",
    "for i in range(len(x)):\n",
    "    aux=credit_card_data[credit_card_data['Overdraft Protection'] == x[i]]\n",
    "    y.append(aux['Overdraft Protection'].count())\n",
    "plt.bar(x, y)\n",
    "#Observamos la gran diferencia de tamaño entre ambas columnas en el gráfico."
   ]
  },
  {
   "cell_type": "code",
   "execution_count": 34,
   "metadata": {},
   "outputs": [
    {
     "data": {
      "text/plain": [
       "Credit Rating\n",
       "High      6071\n",
       "Low       5957\n",
       "Medium    5972\n",
       "Name: Credit Rating, dtype: int64"
      ]
     },
     "execution_count": 34,
     "metadata": {},
     "output_type": "execute_result"
    }
   ],
   "source": [
    "credit_card_data.groupby('Credit Rating')['Credit Rating'].count()\n",
    "#Esta columna sí nos vale para nuestro análisis, todas las categorías están bien representadas."
   ]
  },
  {
   "cell_type": "code",
   "execution_count": 35,
   "metadata": {},
   "outputs": [
    {
     "data": {
      "text/plain": [
       "<BarContainer object of 3 artists>"
      ]
     },
     "execution_count": 35,
     "metadata": {},
     "output_type": "execute_result"
    },
    {
     "data": {
      "image/png": "[encoded data removed]",
      "text/plain": [
       "<Figure size 432x288 with 1 Axes>"
      ]
     },
     "metadata": {
      "needs_background": "light"
     },
     "output_type": "display_data"
    }
   ],
   "source": [
    "x=credit_card_data['Credit Rating'].unique().tolist()\n",
    "y=[]\n",
    "for i in range(len(x)):\n",
    "    aux=credit_card_data[credit_card_data['Credit Rating'] == x[i]]\n",
    "    y.append(aux['Credit Rating'].count())\n",
    "plt.bar(x, y)\n",
    "#Las categorías tienen todas más o menos el mismo número de clientes."
   ]
  },
  {
   "cell_type": "code",
   "execution_count": 36,
   "metadata": {},
   "outputs": [
    {
     "data": {
      "text/plain": [
       "# Credit Cards Held\n",
       "1    6154\n",
       "2    7944\n",
       "3    3387\n",
       "4     515\n",
       "Name: # Credit Cards Held, dtype: int64"
      ]
     },
     "execution_count": 36,
     "metadata": {},
     "output_type": "execute_result"
    }
   ],
   "source": [
    "credit_card_data.groupby('# Credit Cards Held')['# Credit Cards Held'].count()\n",
    "#Esta columna sí nos vale para nuestro análisis. La categoría '4' no está lo suficientemente representada."
   ]
  },
  {
   "cell_type": "code",
   "execution_count": 37,
   "metadata": {},
   "outputs": [
    {
     "data": {
      "text/plain": [
       "<BarContainer object of 4 artists>"
      ]
     },
     "execution_count": 37,
     "metadata": {},
     "output_type": "execute_result"
    },
    {
     "data": {
      "image/png": "[encoded data removed]",
      "text/plain": [
       "<Figure size 432x288 with 1 Axes>"
      ]
     },
     "metadata": {
      "needs_background": "light"
     },
     "output_type": "display_data"
    }
   ],
   "source": [
    "x=credit_card_data['# Credit Cards Held'].unique().tolist()\n",
    "y=[]\n",
    "for i in range(len(x)):\n",
    "    aux=credit_card_data[credit_card_data['# Credit Cards Held'] == x[i]]\n",
    "    y.append(aux['# Credit Cards Held'].count())\n",
    "plt.bar(x, y)\n",
    "#Observamos que la barra más baja de todas corresponde a la categoría '4'."
   ]
  },
  {
   "cell_type": "code",
   "execution_count": 38,
   "metadata": {},
   "outputs": [
    {
     "data": {
      "text/plain": [
       "# Homes Owned\n",
       "1    14523\n",
       "2     3292\n",
       "3      185\n",
       "Name: # Homes Owned, dtype: int64"
      ]
     },
     "execution_count": 38,
     "metadata": {},
     "output_type": "execute_result"
    }
   ],
   "source": [
    "credit_card_data.groupby('# Homes Owned')['# Homes Owned'].count()\n",
    "#Esta columna sí nos vale para nuestro análisis. La categoría '3' no está lo suficientemente representada."
   ]
  },
  {
   "cell_type": "code",
   "execution_count": 39,
   "metadata": {},
   "outputs": [
    {
     "data": {
      "text/plain": [
       "<BarContainer object of 3 artists>"
      ]
     },
     "execution_count": 39,
     "metadata": {},
     "output_type": "execute_result"
    },
    {
     "data": {
      "image/png": "[encoded data removed]",
      "text/plain": [
       "<Figure size 432x288 with 1 Axes>"
      ]
     },
     "metadata": {
      "needs_background": "light"
     },
     "output_type": "display_data"
    }
   ],
   "source": [
    "x=credit_card_data['# Homes Owned'].unique().tolist()\n",
    "y=[]\n",
    "for i in range(len(x)):\n",
    "    aux=credit_card_data[credit_card_data['# Homes Owned'] == x[i]]\n",
    "    y.append(aux['# Homes Owned'].count())\n",
    "plt.bar(x, y)\n",
    "#Como podemos ver, la categoría '3' no está lo suficientemente representada."
   ]
  },
  {
   "cell_type": "code",
   "execution_count": 40,
   "metadata": {},
   "outputs": [
    {
     "data": {
      "text/plain": [
       "Household Size\n",
       "1     539\n",
       "2    2813\n",
       "3    5712\n",
       "4    5543\n",
       "5    2853\n",
       "6     538\n",
       "8       1\n",
       "9       1\n",
       "Name: Household Size, dtype: int64"
      ]
     },
     "execution_count": 40,
     "metadata": {},
     "output_type": "execute_result"
    }
   ],
   "source": [
    "credit_card_data.groupby('Household Size')['Household Size'].count()\n",
    "#Esta columna sí nos vale para nuestro análisis. Las categorías '8' y '9' no están lo suficientemente representadas."
   ]
  },
  {
   "cell_type": "code",
   "execution_count": 41,
   "metadata": {},
   "outputs": [
    {
     "data": {
      "text/plain": [
       "<BarContainer object of 8 artists>"
      ]
     },
     "execution_count": 41,
     "metadata": {},
     "output_type": "execute_result"
    },
    {
     "data": {
      "image/png": "[encoded data removed]",
      "text/plain": [
       "<Figure size 432x288 with 1 Axes>"
      ]
     },
     "metadata": {
      "needs_background": "light"
     },
     "output_type": "display_data"
    }
   ],
   "source": [
    "x=credit_card_data['Household Size'].unique().tolist()\n",
    "y=[]\n",
    "for i in range(len(x)):\n",
    "    aux=credit_card_data[credit_card_data['Household Size'] == x[i]]\n",
    "    y.append(aux['Household Size'].count())\n",
    "plt.bar(x, y)\n",
    "#Aquí observamos la gran diferencia entre el resto de categorías con las categorías '8' y '9'."
   ]
  },
  {
   "cell_type": "code",
   "execution_count": 42,
   "metadata": {},
   "outputs": [
    {
     "data": {
      "text/plain": [
       "Own Your Home\n",
       "No      6345\n",
       "Yes    11655\n",
       "Name: Own Your Home, dtype: int64"
      ]
     },
     "execution_count": 42,
     "metadata": {},
     "output_type": "execute_result"
    }
   ],
   "source": [
    "credit_card_data.groupby('Own Your Home')['Own Your Home'].count()\n",
    "#Esta columna sí nos vale para nuestro análisis. La categoría 'No' no está lo suficientemente representada."
   ]
  },
  {
   "cell_type": "code",
   "execution_count": 43,
   "metadata": {},
   "outputs": [
    {
     "data": {
      "text/plain": [
       "<BarContainer object of 2 artists>"
      ]
     },
     "execution_count": 43,
     "metadata": {},
     "output_type": "execute_result"
    },
    {
     "data": {
      "image/png": "[encoded data removed]",
      "text/plain": [
       "<Figure size 432x288 with 1 Axes>"
      ]
     },
     "metadata": {
      "needs_background": "light"
     },
     "output_type": "display_data"
    }
   ],
   "source": [
    "x=credit_card_data['Own Your Home'].unique().tolist()\n",
    "y=[]\n",
    "for i in range(len(x)):\n",
    "    aux=credit_card_data[credit_card_data['Own Your Home'] == x[i]]\n",
    "    y.append(aux['Own Your Home'].count())\n",
    "plt.bar(x, y)\n",
    "#Vemos que la barra de la categoría 'No' tiene menos altura que la de la categoría 'Yes'."
   ]
  },
  {
   "cell_type": "code",
   "execution_count": 44,
   "metadata": {},
   "outputs": [
    {
     "data": {
      "text/plain": [
       "Average Balance\n",
       "48.25      1\n",
       "56.00      1\n",
       "62.00      1\n",
       "63.50      1\n",
       "71.25      1\n",
       "          ..\n",
       "2437.50    1\n",
       "2609.50    1\n",
       "2738.50    1\n",
       "2948.50    1\n",
       "3366.25    1\n",
       "Name: Average Balance, Length: 4728, dtype: int64"
      ]
     },
     "execution_count": 44,
     "metadata": {},
     "output_type": "execute_result"
    }
   ],
   "source": [
    "credit_card_data.groupby('Average Balance')['Average Balance'].count()\n",
    "#La columna 'Average Balance' no nos sirve para nuestro análisis debido a la gran cantidad de categorías.\n",
    "#Así mismo, las columnas Q1, Q2, Q3 y Q4 Balance tampoco nos sirven para nuestro análisis."
   ]
  },
  {
   "cell_type": "markdown",
   "metadata": {},
   "source": [
    "8. Your managers are only interested in the customers with the following properties:\n",
    "\n",
    "    - Credit rating medium or high.\n",
    "    - Credit cards held 2 or less.\n",
    "    - Owns their own home.\n",
    "    - Household size 3 or more.\n",
    "\n",
    "    For the rest of the things, they are not too concerned. Write code to find what are the options available for them. \n",
    "\n",
    "    Can you filter the customers who accepted the offers here?"
   ]
  },
  {
   "cell_type": "code",
   "execution_count": 45,
   "metadata": {},
   "outputs": [
    {
     "data": {
      "text/html": [
       "<div>\n",
       "<style scoped>\n",
       "    .dataframe tbody tr th:only-of-type {\n",
       "        vertical-align: middle;\n",
       "    }\n",
       "\n",
       "    .dataframe tbody tr th {\n",
       "        vertical-align: top;\n",
       "    }\n",
       "\n",
       "    .dataframe thead th {\n",
       "        text-align: right;\n",
       "    }\n",
       "</style>\n",
       "<table border=\"1\" class=\"dataframe\">\n",
       "  <thead>\n",
       "    <tr style=\"text-align: right;\">\n",
       "      <th></th>\n",
       "      <th>Customer Number</th>\n",
       "      <th>Offer Accepted</th>\n",
       "      <th>Reward</th>\n",
       "      <th>Mailer Type</th>\n",
       "      <th>Income Level</th>\n",
       "      <th># Bank Accounts Open</th>\n",
       "      <th>Overdraft Protection</th>\n",
       "      <th>Credit Rating</th>\n",
       "      <th># Credit Cards Held</th>\n",
       "      <th># Homes Owned</th>\n",
       "      <th>Household Size</th>\n",
       "      <th>Own Your Home</th>\n",
       "      <th>Average Balance</th>\n",
       "      <th>Q1 Balance</th>\n",
       "      <th>Q2 Balance</th>\n",
       "      <th>Q3 Balance</th>\n",
       "      <th>Q4 Balance</th>\n",
       "    </tr>\n",
       "  </thead>\n",
       "  <tbody>\n",
       "    <tr>\n",
       "      <th>10475</th>\n",
       "      <td>10476</td>\n",
       "      <td>No</td>\n",
       "      <td>Air Miles</td>\n",
       "      <td>Letter</td>\n",
       "      <td>Medium</td>\n",
       "      <td>1</td>\n",
       "      <td>Yes</td>\n",
       "      <td>High</td>\n",
       "      <td>1</td>\n",
       "      <td>1</td>\n",
       "      <td>4</td>\n",
       "      <td>Yes</td>\n",
       "      <td>2430.00</td>\n",
       "      <td>2435.0</td>\n",
       "      <td>2234.0</td>\n",
       "      <td>2576.0</td>\n",
       "      <td>2475.0</td>\n",
       "    </tr>\n",
       "    <tr>\n",
       "      <th>17736</th>\n",
       "      <td>17737</td>\n",
       "      <td>No</td>\n",
       "      <td>Cash Back</td>\n",
       "      <td>Postcard</td>\n",
       "      <td>High</td>\n",
       "      <td>2</td>\n",
       "      <td>No</td>\n",
       "      <td>High</td>\n",
       "      <td>1</td>\n",
       "      <td>1</td>\n",
       "      <td>5</td>\n",
       "      <td>Yes</td>\n",
       "      <td>1902.00</td>\n",
       "      <td>1894.0</td>\n",
       "      <td>1934.0</td>\n",
       "      <td>1921.0</td>\n",
       "      <td>1859.0</td>\n",
       "    </tr>\n",
       "    <tr>\n",
       "      <th>9387</th>\n",
       "      <td>9388</td>\n",
       "      <td>No</td>\n",
       "      <td>Points</td>\n",
       "      <td>Postcard</td>\n",
       "      <td>Medium</td>\n",
       "      <td>1</td>\n",
       "      <td>No</td>\n",
       "      <td>High</td>\n",
       "      <td>2</td>\n",
       "      <td>1</td>\n",
       "      <td>4</td>\n",
       "      <td>Yes</td>\n",
       "      <td>1883.00</td>\n",
       "      <td>1896.0</td>\n",
       "      <td>1834.0</td>\n",
       "      <td>1995.0</td>\n",
       "      <td>1807.0</td>\n",
       "    </tr>\n",
       "    <tr>\n",
       "      <th>7255</th>\n",
       "      <td>7256</td>\n",
       "      <td>No</td>\n",
       "      <td>Air Miles</td>\n",
       "      <td>Postcard</td>\n",
       "      <td>High</td>\n",
       "      <td>1</td>\n",
       "      <td>No</td>\n",
       "      <td>Medium</td>\n",
       "      <td>2</td>\n",
       "      <td>1</td>\n",
       "      <td>4</td>\n",
       "      <td>Yes</td>\n",
       "      <td>1882.75</td>\n",
       "      <td>1826.0</td>\n",
       "      <td>1913.0</td>\n",
       "      <td>1905.0</td>\n",
       "      <td>1887.0</td>\n",
       "    </tr>\n",
       "    <tr>\n",
       "      <th>12764</th>\n",
       "      <td>12765</td>\n",
       "      <td>No</td>\n",
       "      <td>Cash Back</td>\n",
       "      <td>Postcard</td>\n",
       "      <td>Medium</td>\n",
       "      <td>1</td>\n",
       "      <td>No</td>\n",
       "      <td>Medium</td>\n",
       "      <td>2</td>\n",
       "      <td>1</td>\n",
       "      <td>3</td>\n",
       "      <td>Yes</td>\n",
       "      <td>1844.75</td>\n",
       "      <td>1807.0</td>\n",
       "      <td>1992.0</td>\n",
       "      <td>1731.0</td>\n",
       "      <td>1849.0</td>\n",
       "    </tr>\n",
       "    <tr>\n",
       "      <th>...</th>\n",
       "      <td>...</td>\n",
       "      <td>...</td>\n",
       "      <td>...</td>\n",
       "      <td>...</td>\n",
       "      <td>...</td>\n",
       "      <td>...</td>\n",
       "      <td>...</td>\n",
       "      <td>...</td>\n",
       "      <td>...</td>\n",
       "      <td>...</td>\n",
       "      <td>...</td>\n",
       "      <td>...</td>\n",
       "      <td>...</td>\n",
       "      <td>...</td>\n",
       "      <td>...</td>\n",
       "      <td>...</td>\n",
       "      <td>...</td>\n",
       "    </tr>\n",
       "    <tr>\n",
       "      <th>6932</th>\n",
       "      <td>6933</td>\n",
       "      <td>No</td>\n",
       "      <td>Air Miles</td>\n",
       "      <td>Postcard</td>\n",
       "      <td>Medium</td>\n",
       "      <td>1</td>\n",
       "      <td>No</td>\n",
       "      <td>Medium</td>\n",
       "      <td>2</td>\n",
       "      <td>2</td>\n",
       "      <td>4</td>\n",
       "      <td>Yes</td>\n",
       "      <td>NaN</td>\n",
       "      <td>NaN</td>\n",
       "      <td>NaN</td>\n",
       "      <td>NaN</td>\n",
       "      <td>NaN</td>\n",
       "    </tr>\n",
       "    <tr>\n",
       "      <th>8151</th>\n",
       "      <td>8152</td>\n",
       "      <td>No</td>\n",
       "      <td>Cash Back</td>\n",
       "      <td>Letter</td>\n",
       "      <td>Low</td>\n",
       "      <td>2</td>\n",
       "      <td>No</td>\n",
       "      <td>Medium</td>\n",
       "      <td>2</td>\n",
       "      <td>2</td>\n",
       "      <td>3</td>\n",
       "      <td>Yes</td>\n",
       "      <td>NaN</td>\n",
       "      <td>NaN</td>\n",
       "      <td>NaN</td>\n",
       "      <td>NaN</td>\n",
       "      <td>NaN</td>\n",
       "    </tr>\n",
       "    <tr>\n",
       "      <th>8634</th>\n",
       "      <td>8635</td>\n",
       "      <td>No</td>\n",
       "      <td>Air Miles</td>\n",
       "      <td>Postcard</td>\n",
       "      <td>High</td>\n",
       "      <td>1</td>\n",
       "      <td>No</td>\n",
       "      <td>High</td>\n",
       "      <td>2</td>\n",
       "      <td>1</td>\n",
       "      <td>3</td>\n",
       "      <td>Yes</td>\n",
       "      <td>NaN</td>\n",
       "      <td>NaN</td>\n",
       "      <td>NaN</td>\n",
       "      <td>NaN</td>\n",
       "      <td>NaN</td>\n",
       "    </tr>\n",
       "    <tr>\n",
       "      <th>13313</th>\n",
       "      <td>13314</td>\n",
       "      <td>Yes</td>\n",
       "      <td>Air Miles</td>\n",
       "      <td>Postcard</td>\n",
       "      <td>Medium</td>\n",
       "      <td>1</td>\n",
       "      <td>No</td>\n",
       "      <td>Medium</td>\n",
       "      <td>1</td>\n",
       "      <td>1</td>\n",
       "      <td>3</td>\n",
       "      <td>Yes</td>\n",
       "      <td>NaN</td>\n",
       "      <td>NaN</td>\n",
       "      <td>NaN</td>\n",
       "      <td>NaN</td>\n",
       "      <td>NaN</td>\n",
       "    </tr>\n",
       "    <tr>\n",
       "      <th>13470</th>\n",
       "      <td>13471</td>\n",
       "      <td>No</td>\n",
       "      <td>Air Miles</td>\n",
       "      <td>Postcard</td>\n",
       "      <td>Medium</td>\n",
       "      <td>1</td>\n",
       "      <td>No</td>\n",
       "      <td>Medium</td>\n",
       "      <td>2</td>\n",
       "      <td>1</td>\n",
       "      <td>3</td>\n",
       "      <td>Yes</td>\n",
       "      <td>NaN</td>\n",
       "      <td>NaN</td>\n",
       "      <td>NaN</td>\n",
       "      <td>NaN</td>\n",
       "      <td>NaN</td>\n",
       "    </tr>\n",
       "  </tbody>\n",
       "</table>\n",
       "<p>4956 rows × 17 columns</p>\n",
       "</div>"
      ],
      "text/plain": [
       "       Customer Number Offer Accepted     Reward Mailer Type Income Level  \\\n",
       "10475            10476             No  Air Miles      Letter       Medium   \n",
       "17736            17737             No  Cash Back    Postcard         High   \n",
       "9387              9388             No     Points    Postcard       Medium   \n",
       "7255              7256             No  Air Miles    Postcard         High   \n",
       "12764            12765             No  Cash Back    Postcard       Medium   \n",
       "...                ...            ...        ...         ...          ...   \n",
       "6932              6933             No  Air Miles    Postcard       Medium   \n",
       "8151              8152             No  Cash Back      Letter          Low   \n",
       "8634              8635             No  Air Miles    Postcard         High   \n",
       "13313            13314            Yes  Air Miles    Postcard       Medium   \n",
       "13470            13471             No  Air Miles    Postcard       Medium   \n",
       "\n",
       "       # Bank Accounts Open Overdraft Protection Credit Rating  \\\n",
       "10475                     1                  Yes          High   \n",
       "17736                     2                   No          High   \n",
       "9387                      1                   No          High   \n",
       "7255                      1                   No        Medium   \n",
       "12764                     1                   No        Medium   \n",
       "...                     ...                  ...           ...   \n",
       "6932                      1                   No        Medium   \n",
       "8151                      2                   No        Medium   \n",
       "8634                      1                   No          High   \n",
       "13313                     1                   No        Medium   \n",
       "13470                     1                   No        Medium   \n",
       "\n",
       "       # Credit Cards Held  # Homes Owned  Household Size Own Your Home  \\\n",
       "10475                    1              1               4           Yes   \n",
       "17736                    1              1               5           Yes   \n",
       "9387                     2              1               4           Yes   \n",
       "7255                     2              1               4           Yes   \n",
       "12764                    2              1               3           Yes   \n",
       "...                    ...            ...             ...           ...   \n",
       "6932                     2              2               4           Yes   \n",
       "8151                     2              2               3           Yes   \n",
       "8634                     2              1               3           Yes   \n",
       "13313                    1              1               3           Yes   \n",
       "13470                    2              1               3           Yes   \n",
       "\n",
       "       Average Balance  Q1 Balance  Q2 Balance  Q3 Balance  Q4 Balance  \n",
       "10475          2430.00      2435.0      2234.0      2576.0      2475.0  \n",
       "17736          1902.00      1894.0      1934.0      1921.0      1859.0  \n",
       "9387           1883.00      1896.0      1834.0      1995.0      1807.0  \n",
       "7255           1882.75      1826.0      1913.0      1905.0      1887.0  \n",
       "12764          1844.75      1807.0      1992.0      1731.0      1849.0  \n",
       "...                ...         ...         ...         ...         ...  \n",
       "6932               NaN         NaN         NaN         NaN         NaN  \n",
       "8151               NaN         NaN         NaN         NaN         NaN  \n",
       "8634               NaN         NaN         NaN         NaN         NaN  \n",
       "13313              NaN         NaN         NaN         NaN         NaN  \n",
       "13470              NaN         NaN         NaN         NaN         NaN  \n",
       "\n",
       "[4956 rows x 17 columns]"
      ]
     },
     "execution_count": 45,
     "metadata": {},
     "output_type": "execute_result"
    }
   ],
   "source": [
    "data = credit_card_data[credit_card_data['Credit Rating'].isin(['High', 'Medium'])]\n",
    "data = data[data['# Credit Cards Held'] <= 2]\n",
    "data = data[data['Own Your Home'] == 'Yes']\n",
    "data = data[data['Household Size'] >= 3]\n",
    "data\n",
    "#Estas son las opciones que existen con los filtros que busca la empresa."
   ]
  },
  {
   "cell_type": "code",
   "execution_count": 46,
   "metadata": {},
   "outputs": [
    {
     "data": {
      "text/html": [
       "<div>\n",
       "<style scoped>\n",
       "    .dataframe tbody tr th:only-of-type {\n",
       "        vertical-align: middle;\n",
       "    }\n",
       "\n",
       "    .dataframe tbody tr th {\n",
       "        vertical-align: top;\n",
       "    }\n",
       "\n",
       "    .dataframe thead th {\n",
       "        text-align: right;\n",
       "    }\n",
       "</style>\n",
       "<table border=\"1\" class=\"dataframe\">\n",
       "  <thead>\n",
       "    <tr style=\"text-align: right;\">\n",
       "      <th></th>\n",
       "      <th>Customer Number</th>\n",
       "      <th>Offer Accepted</th>\n",
       "      <th>Reward</th>\n",
       "      <th>Mailer Type</th>\n",
       "      <th>Income Level</th>\n",
       "      <th># Bank Accounts Open</th>\n",
       "      <th>Overdraft Protection</th>\n",
       "      <th>Credit Rating</th>\n",
       "      <th># Credit Cards Held</th>\n",
       "      <th># Homes Owned</th>\n",
       "      <th>Household Size</th>\n",
       "      <th>Own Your Home</th>\n",
       "      <th>Average Balance</th>\n",
       "      <th>Q1 Balance</th>\n",
       "      <th>Q2 Balance</th>\n",
       "      <th>Q3 Balance</th>\n",
       "      <th>Q4 Balance</th>\n",
       "    </tr>\n",
       "  </thead>\n",
       "  <tbody>\n",
       "    <tr>\n",
       "      <th>11443</th>\n",
       "      <td>11444</td>\n",
       "      <td>Yes</td>\n",
       "      <td>Air Miles</td>\n",
       "      <td>Letter</td>\n",
       "      <td>Low</td>\n",
       "      <td>1</td>\n",
       "      <td>No</td>\n",
       "      <td>Medium</td>\n",
       "      <td>2</td>\n",
       "      <td>1</td>\n",
       "      <td>5</td>\n",
       "      <td>Yes</td>\n",
       "      <td>1797.00</td>\n",
       "      <td>1853.0</td>\n",
       "      <td>1636.0</td>\n",
       "      <td>1822.0</td>\n",
       "      <td>1877.0</td>\n",
       "    </tr>\n",
       "    <tr>\n",
       "      <th>2627</th>\n",
       "      <td>2628</td>\n",
       "      <td>Yes</td>\n",
       "      <td>Points</td>\n",
       "      <td>Letter</td>\n",
       "      <td>High</td>\n",
       "      <td>2</td>\n",
       "      <td>No</td>\n",
       "      <td>Medium</td>\n",
       "      <td>1</td>\n",
       "      <td>1</td>\n",
       "      <td>5</td>\n",
       "      <td>Yes</td>\n",
       "      <td>1766.50</td>\n",
       "      <td>1795.0</td>\n",
       "      <td>1912.0</td>\n",
       "      <td>1569.0</td>\n",
       "      <td>1790.0</td>\n",
       "    </tr>\n",
       "    <tr>\n",
       "      <th>11706</th>\n",
       "      <td>11707</td>\n",
       "      <td>Yes</td>\n",
       "      <td>Air Miles</td>\n",
       "      <td>Postcard</td>\n",
       "      <td>Medium</td>\n",
       "      <td>1</td>\n",
       "      <td>Yes</td>\n",
       "      <td>Medium</td>\n",
       "      <td>1</td>\n",
       "      <td>1</td>\n",
       "      <td>4</td>\n",
       "      <td>Yes</td>\n",
       "      <td>1709.75</td>\n",
       "      <td>1486.0</td>\n",
       "      <td>1763.0</td>\n",
       "      <td>1939.0</td>\n",
       "      <td>1651.0</td>\n",
       "    </tr>\n",
       "    <tr>\n",
       "      <th>17931</th>\n",
       "      <td>17932</td>\n",
       "      <td>Yes</td>\n",
       "      <td>Points</td>\n",
       "      <td>Letter</td>\n",
       "      <td>Medium</td>\n",
       "      <td>1</td>\n",
       "      <td>No</td>\n",
       "      <td>High</td>\n",
       "      <td>2</td>\n",
       "      <td>1</td>\n",
       "      <td>5</td>\n",
       "      <td>Yes</td>\n",
       "      <td>1539.00</td>\n",
       "      <td>1423.0</td>\n",
       "      <td>1864.0</td>\n",
       "      <td>1527.0</td>\n",
       "      <td>1342.0</td>\n",
       "    </tr>\n",
       "    <tr>\n",
       "      <th>14207</th>\n",
       "      <td>14208</td>\n",
       "      <td>Yes</td>\n",
       "      <td>Points</td>\n",
       "      <td>Postcard</td>\n",
       "      <td>Low</td>\n",
       "      <td>1</td>\n",
       "      <td>No</td>\n",
       "      <td>Medium</td>\n",
       "      <td>2</td>\n",
       "      <td>1</td>\n",
       "      <td>4</td>\n",
       "      <td>Yes</td>\n",
       "      <td>1486.50</td>\n",
       "      <td>733.0</td>\n",
       "      <td>1729.0</td>\n",
       "      <td>2172.0</td>\n",
       "      <td>1312.0</td>\n",
       "    </tr>\n",
       "    <tr>\n",
       "      <th>...</th>\n",
       "      <td>...</td>\n",
       "      <td>...</td>\n",
       "      <td>...</td>\n",
       "      <td>...</td>\n",
       "      <td>...</td>\n",
       "      <td>...</td>\n",
       "      <td>...</td>\n",
       "      <td>...</td>\n",
       "      <td>...</td>\n",
       "      <td>...</td>\n",
       "      <td>...</td>\n",
       "      <td>...</td>\n",
       "      <td>...</td>\n",
       "      <td>...</td>\n",
       "      <td>...</td>\n",
       "      <td>...</td>\n",
       "      <td>...</td>\n",
       "    </tr>\n",
       "    <tr>\n",
       "      <th>16218</th>\n",
       "      <td>16219</td>\n",
       "      <td>Yes</td>\n",
       "      <td>Points</td>\n",
       "      <td>Postcard</td>\n",
       "      <td>Medium</td>\n",
       "      <td>2</td>\n",
       "      <td>No</td>\n",
       "      <td>Medium</td>\n",
       "      <td>1</td>\n",
       "      <td>1</td>\n",
       "      <td>3</td>\n",
       "      <td>Yes</td>\n",
       "      <td>132.25</td>\n",
       "      <td>14.0</td>\n",
       "      <td>383.0</td>\n",
       "      <td>15.0</td>\n",
       "      <td>117.0</td>\n",
       "    </tr>\n",
       "    <tr>\n",
       "      <th>4563</th>\n",
       "      <td>4564</td>\n",
       "      <td>Yes</td>\n",
       "      <td>Air Miles</td>\n",
       "      <td>Postcard</td>\n",
       "      <td>High</td>\n",
       "      <td>1</td>\n",
       "      <td>No</td>\n",
       "      <td>High</td>\n",
       "      <td>1</td>\n",
       "      <td>1</td>\n",
       "      <td>4</td>\n",
       "      <td>Yes</td>\n",
       "      <td>121.00</td>\n",
       "      <td>95.0</td>\n",
       "      <td>31.0</td>\n",
       "      <td>155.0</td>\n",
       "      <td>203.0</td>\n",
       "    </tr>\n",
       "    <tr>\n",
       "      <th>12228</th>\n",
       "      <td>12229</td>\n",
       "      <td>Yes</td>\n",
       "      <td>Air Miles</td>\n",
       "      <td>Postcard</td>\n",
       "      <td>Medium</td>\n",
       "      <td>1</td>\n",
       "      <td>No</td>\n",
       "      <td>Medium</td>\n",
       "      <td>2</td>\n",
       "      <td>1</td>\n",
       "      <td>4</td>\n",
       "      <td>Yes</td>\n",
       "      <td>114.50</td>\n",
       "      <td>144.0</td>\n",
       "      <td>16.0</td>\n",
       "      <td>43.0</td>\n",
       "      <td>255.0</td>\n",
       "    </tr>\n",
       "    <tr>\n",
       "      <th>3070</th>\n",
       "      <td>3071</td>\n",
       "      <td>Yes</td>\n",
       "      <td>Air Miles</td>\n",
       "      <td>Postcard</td>\n",
       "      <td>Low</td>\n",
       "      <td>3</td>\n",
       "      <td>No</td>\n",
       "      <td>Medium</td>\n",
       "      <td>2</td>\n",
       "      <td>1</td>\n",
       "      <td>4</td>\n",
       "      <td>Yes</td>\n",
       "      <td>NaN</td>\n",
       "      <td>NaN</td>\n",
       "      <td>NaN</td>\n",
       "      <td>NaN</td>\n",
       "      <td>NaN</td>\n",
       "    </tr>\n",
       "    <tr>\n",
       "      <th>13313</th>\n",
       "      <td>13314</td>\n",
       "      <td>Yes</td>\n",
       "      <td>Air Miles</td>\n",
       "      <td>Postcard</td>\n",
       "      <td>Medium</td>\n",
       "      <td>1</td>\n",
       "      <td>No</td>\n",
       "      <td>Medium</td>\n",
       "      <td>1</td>\n",
       "      <td>1</td>\n",
       "      <td>3</td>\n",
       "      <td>Yes</td>\n",
       "      <td>NaN</td>\n",
       "      <td>NaN</td>\n",
       "      <td>NaN</td>\n",
       "      <td>NaN</td>\n",
       "      <td>NaN</td>\n",
       "    </tr>\n",
       "  </tbody>\n",
       "</table>\n",
       "<p>169 rows × 17 columns</p>\n",
       "</div>"
      ],
      "text/plain": [
       "       Customer Number Offer Accepted     Reward Mailer Type Income Level  \\\n",
       "11443            11444            Yes  Air Miles      Letter          Low   \n",
       "2627              2628            Yes     Points      Letter         High   \n",
       "11706            11707            Yes  Air Miles    Postcard       Medium   \n",
       "17931            17932            Yes     Points      Letter       Medium   \n",
       "14207            14208            Yes     Points    Postcard          Low   \n",
       "...                ...            ...        ...         ...          ...   \n",
       "16218            16219            Yes     Points    Postcard       Medium   \n",
       "4563              4564            Yes  Air Miles    Postcard         High   \n",
       "12228            12229            Yes  Air Miles    Postcard       Medium   \n",
       "3070              3071            Yes  Air Miles    Postcard          Low   \n",
       "13313            13314            Yes  Air Miles    Postcard       Medium   \n",
       "\n",
       "       # Bank Accounts Open Overdraft Protection Credit Rating  \\\n",
       "11443                     1                   No        Medium   \n",
       "2627                      2                   No        Medium   \n",
       "11706                     1                  Yes        Medium   \n",
       "17931                     1                   No          High   \n",
       "14207                     1                   No        Medium   \n",
       "...                     ...                  ...           ...   \n",
       "16218                     2                   No        Medium   \n",
       "4563                      1                   No          High   \n",
       "12228                     1                   No        Medium   \n",
       "3070                      3                   No        Medium   \n",
       "13313                     1                   No        Medium   \n",
       "\n",
       "       # Credit Cards Held  # Homes Owned  Household Size Own Your Home  \\\n",
       "11443                    2              1               5           Yes   \n",
       "2627                     1              1               5           Yes   \n",
       "11706                    1              1               4           Yes   \n",
       "17931                    2              1               5           Yes   \n",
       "14207                    2              1               4           Yes   \n",
       "...                    ...            ...             ...           ...   \n",
       "16218                    1              1               3           Yes   \n",
       "4563                     1              1               4           Yes   \n",
       "12228                    2              1               4           Yes   \n",
       "3070                     2              1               4           Yes   \n",
       "13313                    1              1               3           Yes   \n",
       "\n",
       "       Average Balance  Q1 Balance  Q2 Balance  Q3 Balance  Q4 Balance  \n",
       "11443          1797.00      1853.0      1636.0      1822.0      1877.0  \n",
       "2627           1766.50      1795.0      1912.0      1569.0      1790.0  \n",
       "11706          1709.75      1486.0      1763.0      1939.0      1651.0  \n",
       "17931          1539.00      1423.0      1864.0      1527.0      1342.0  \n",
       "14207          1486.50       733.0      1729.0      2172.0      1312.0  \n",
       "...                ...         ...         ...         ...         ...  \n",
       "16218           132.25        14.0       383.0        15.0       117.0  \n",
       "4563            121.00        95.0        31.0       155.0       203.0  \n",
       "12228           114.50       144.0        16.0        43.0       255.0  \n",
       "3070               NaN         NaN         NaN         NaN         NaN  \n",
       "13313              NaN         NaN         NaN         NaN         NaN  \n",
       "\n",
       "[169 rows x 17 columns]"
      ]
     },
     "execution_count": 46,
     "metadata": {},
     "output_type": "execute_result"
    }
   ],
   "source": [
    "#Si filtramos estos datos buscados a aquellos que hayan aceptado la oferta, obtenemos el siguiente resultado.\n",
    "data[data['Offer Accepted'] == 'Yes']"
   ]
  },
  {
   "cell_type": "markdown",
   "metadata": {},
   "source": [
    "9. Your managers want to find out the list of customers whose average balance is less than the average balance of all the customers in the database. Write a query to show them the list of such customers."
   ]
  },
  {
   "cell_type": "code",
   "execution_count": 47,
   "metadata": {},
   "outputs": [
    {
     "data": {
      "text/html": [
       "<div>\n",
       "<style scoped>\n",
       "    .dataframe tbody tr th:only-of-type {\n",
       "        vertical-align: middle;\n",
       "    }\n",
       "\n",
       "    .dataframe tbody tr th {\n",
       "        vertical-align: top;\n",
       "    }\n",
       "\n",
       "    .dataframe thead th {\n",
       "        text-align: right;\n",
       "    }\n",
       "</style>\n",
       "<table border=\"1\" class=\"dataframe\">\n",
       "  <thead>\n",
       "    <tr style=\"text-align: right;\">\n",
       "      <th></th>\n",
       "      <th>Customer Number</th>\n",
       "      <th>Offer Accepted</th>\n",
       "      <th>Reward</th>\n",
       "      <th>Mailer Type</th>\n",
       "      <th>Income Level</th>\n",
       "      <th># Bank Accounts Open</th>\n",
       "      <th>Overdraft Protection</th>\n",
       "      <th>Credit Rating</th>\n",
       "      <th># Credit Cards Held</th>\n",
       "      <th># Homes Owned</th>\n",
       "      <th>Household Size</th>\n",
       "      <th>Own Your Home</th>\n",
       "      <th>Average Balance</th>\n",
       "      <th>Q1 Balance</th>\n",
       "      <th>Q2 Balance</th>\n",
       "      <th>Q3 Balance</th>\n",
       "      <th>Q4 Balance</th>\n",
       "    </tr>\n",
       "  </thead>\n",
       "  <tbody>\n",
       "    <tr>\n",
       "      <th>14009</th>\n",
       "      <td>14010</td>\n",
       "      <td>No</td>\n",
       "      <td>Cash Back</td>\n",
       "      <td>Letter</td>\n",
       "      <td>High</td>\n",
       "      <td>1</td>\n",
       "      <td>Yes</td>\n",
       "      <td>High</td>\n",
       "      <td>3</td>\n",
       "      <td>1</td>\n",
       "      <td>4</td>\n",
       "      <td>Yes</td>\n",
       "      <td>940.50</td>\n",
       "      <td>1509.0</td>\n",
       "      <td>1290.0</td>\n",
       "      <td>743.0</td>\n",
       "      <td>220.0</td>\n",
       "    </tr>\n",
       "    <tr>\n",
       "      <th>16556</th>\n",
       "      <td>16557</td>\n",
       "      <td>No</td>\n",
       "      <td>Cash Back</td>\n",
       "      <td>Letter</td>\n",
       "      <td>Low</td>\n",
       "      <td>1</td>\n",
       "      <td>Yes</td>\n",
       "      <td>Low</td>\n",
       "      <td>2</td>\n",
       "      <td>2</td>\n",
       "      <td>4</td>\n",
       "      <td>No</td>\n",
       "      <td>940.50</td>\n",
       "      <td>906.0</td>\n",
       "      <td>960.0</td>\n",
       "      <td>899.0</td>\n",
       "      <td>997.0</td>\n",
       "    </tr>\n",
       "    <tr>\n",
       "      <th>4761</th>\n",
       "      <td>4762</td>\n",
       "      <td>No</td>\n",
       "      <td>Points</td>\n",
       "      <td>Letter</td>\n",
       "      <td>Medium</td>\n",
       "      <td>1</td>\n",
       "      <td>No</td>\n",
       "      <td>Medium</td>\n",
       "      <td>3</td>\n",
       "      <td>1</td>\n",
       "      <td>2</td>\n",
       "      <td>Yes</td>\n",
       "      <td>940.50</td>\n",
       "      <td>1785.0</td>\n",
       "      <td>1372.0</td>\n",
       "      <td>516.0</td>\n",
       "      <td>89.0</td>\n",
       "    </tr>\n",
       "    <tr>\n",
       "      <th>6235</th>\n",
       "      <td>6236</td>\n",
       "      <td>No</td>\n",
       "      <td>Cash Back</td>\n",
       "      <td>Letter</td>\n",
       "      <td>Medium</td>\n",
       "      <td>1</td>\n",
       "      <td>No</td>\n",
       "      <td>Low</td>\n",
       "      <td>3</td>\n",
       "      <td>1</td>\n",
       "      <td>6</td>\n",
       "      <td>Yes</td>\n",
       "      <td>940.50</td>\n",
       "      <td>674.0</td>\n",
       "      <td>459.0</td>\n",
       "      <td>954.0</td>\n",
       "      <td>1675.0</td>\n",
       "    </tr>\n",
       "    <tr>\n",
       "      <th>8176</th>\n",
       "      <td>8177</td>\n",
       "      <td>Yes</td>\n",
       "      <td>Air Miles</td>\n",
       "      <td>Letter</td>\n",
       "      <td>Low</td>\n",
       "      <td>1</td>\n",
       "      <td>No</td>\n",
       "      <td>Medium</td>\n",
       "      <td>2</td>\n",
       "      <td>1</td>\n",
       "      <td>4</td>\n",
       "      <td>No</td>\n",
       "      <td>940.50</td>\n",
       "      <td>277.0</td>\n",
       "      <td>877.0</td>\n",
       "      <td>2124.0</td>\n",
       "      <td>484.0</td>\n",
       "    </tr>\n",
       "    <tr>\n",
       "      <th>...</th>\n",
       "      <td>...</td>\n",
       "      <td>...</td>\n",
       "      <td>...</td>\n",
       "      <td>...</td>\n",
       "      <td>...</td>\n",
       "      <td>...</td>\n",
       "      <td>...</td>\n",
       "      <td>...</td>\n",
       "      <td>...</td>\n",
       "      <td>...</td>\n",
       "      <td>...</td>\n",
       "      <td>...</td>\n",
       "      <td>...</td>\n",
       "      <td>...</td>\n",
       "      <td>...</td>\n",
       "      <td>...</td>\n",
       "      <td>...</td>\n",
       "    </tr>\n",
       "    <tr>\n",
       "      <th>5148</th>\n",
       "      <td>5149</td>\n",
       "      <td>No</td>\n",
       "      <td>Air Miles</td>\n",
       "      <td>Postcard</td>\n",
       "      <td>Medium</td>\n",
       "      <td>1</td>\n",
       "      <td>No</td>\n",
       "      <td>High</td>\n",
       "      <td>3</td>\n",
       "      <td>1</td>\n",
       "      <td>4</td>\n",
       "      <td>No</td>\n",
       "      <td>71.25</td>\n",
       "      <td>60.0</td>\n",
       "      <td>163.0</td>\n",
       "      <td>51.0</td>\n",
       "      <td>11.0</td>\n",
       "    </tr>\n",
       "    <tr>\n",
       "      <th>11276</th>\n",
       "      <td>11277</td>\n",
       "      <td>No</td>\n",
       "      <td>Points</td>\n",
       "      <td>Postcard</td>\n",
       "      <td>Medium</td>\n",
       "      <td>1</td>\n",
       "      <td>No</td>\n",
       "      <td>High</td>\n",
       "      <td>1</td>\n",
       "      <td>1</td>\n",
       "      <td>5</td>\n",
       "      <td>No</td>\n",
       "      <td>63.50</td>\n",
       "      <td>72.0</td>\n",
       "      <td>0.0</td>\n",
       "      <td>45.0</td>\n",
       "      <td>137.0</td>\n",
       "    </tr>\n",
       "    <tr>\n",
       "      <th>13319</th>\n",
       "      <td>13320</td>\n",
       "      <td>No</td>\n",
       "      <td>Cash Back</td>\n",
       "      <td>Letter</td>\n",
       "      <td>High</td>\n",
       "      <td>1</td>\n",
       "      <td>No</td>\n",
       "      <td>Medium</td>\n",
       "      <td>3</td>\n",
       "      <td>2</td>\n",
       "      <td>3</td>\n",
       "      <td>Yes</td>\n",
       "      <td>62.00</td>\n",
       "      <td>96.0</td>\n",
       "      <td>18.0</td>\n",
       "      <td>98.0</td>\n",
       "      <td>36.0</td>\n",
       "    </tr>\n",
       "    <tr>\n",
       "      <th>2792</th>\n",
       "      <td>2793</td>\n",
       "      <td>No</td>\n",
       "      <td>Points</td>\n",
       "      <td>Letter</td>\n",
       "      <td>Medium</td>\n",
       "      <td>2</td>\n",
       "      <td>No</td>\n",
       "      <td>Low</td>\n",
       "      <td>3</td>\n",
       "      <td>1</td>\n",
       "      <td>4</td>\n",
       "      <td>Yes</td>\n",
       "      <td>56.00</td>\n",
       "      <td>46.0</td>\n",
       "      <td>7.0</td>\n",
       "      <td>111.0</td>\n",
       "      <td>60.0</td>\n",
       "    </tr>\n",
       "    <tr>\n",
       "      <th>5710</th>\n",
       "      <td>5711</td>\n",
       "      <td>No</td>\n",
       "      <td>Points</td>\n",
       "      <td>Postcard</td>\n",
       "      <td>Medium</td>\n",
       "      <td>2</td>\n",
       "      <td>Yes</td>\n",
       "      <td>Medium</td>\n",
       "      <td>1</td>\n",
       "      <td>1</td>\n",
       "      <td>4</td>\n",
       "      <td>Yes</td>\n",
       "      <td>48.25</td>\n",
       "      <td>1.0</td>\n",
       "      <td>9.0</td>\n",
       "      <td>4.0</td>\n",
       "      <td>179.0</td>\n",
       "    </tr>\n",
       "  </tbody>\n",
       "</table>\n",
       "<p>7001 rows × 17 columns</p>\n",
       "</div>"
      ],
      "text/plain": [
       "       Customer Number Offer Accepted     Reward Mailer Type Income Level  \\\n",
       "14009            14010             No  Cash Back      Letter         High   \n",
       "16556            16557             No  Cash Back      Letter          Low   \n",
       "4761              4762             No     Points      Letter       Medium   \n",
       "6235              6236             No  Cash Back      Letter       Medium   \n",
       "8176              8177            Yes  Air Miles      Letter          Low   \n",
       "...                ...            ...        ...         ...          ...   \n",
       "5148              5149             No  Air Miles    Postcard       Medium   \n",
       "11276            11277             No     Points    Postcard       Medium   \n",
       "13319            13320             No  Cash Back      Letter         High   \n",
       "2792              2793             No     Points      Letter       Medium   \n",
       "5710              5711             No     Points    Postcard       Medium   \n",
       "\n",
       "       # Bank Accounts Open Overdraft Protection Credit Rating  \\\n",
       "14009                     1                  Yes          High   \n",
       "16556                     1                  Yes           Low   \n",
       "4761                      1                   No        Medium   \n",
       "6235                      1                   No           Low   \n",
       "8176                      1                   No        Medium   \n",
       "...                     ...                  ...           ...   \n",
       "5148                      1                   No          High   \n",
       "11276                     1                   No          High   \n",
       "13319                     1                   No        Medium   \n",
       "2792                      2                   No           Low   \n",
       "5710                      2                  Yes        Medium   \n",
       "\n",
       "       # Credit Cards Held  # Homes Owned  Household Size Own Your Home  \\\n",
       "14009                    3              1               4           Yes   \n",
       "16556                    2              2               4            No   \n",
       "4761                     3              1               2           Yes   \n",
       "6235                     3              1               6           Yes   \n",
       "8176                     2              1               4            No   \n",
       "...                    ...            ...             ...           ...   \n",
       "5148                     3              1               4            No   \n",
       "11276                    1              1               5            No   \n",
       "13319                    3              2               3           Yes   \n",
       "2792                     3              1               4           Yes   \n",
       "5710                     1              1               4           Yes   \n",
       "\n",
       "       Average Balance  Q1 Balance  Q2 Balance  Q3 Balance  Q4 Balance  \n",
       "14009           940.50      1509.0      1290.0       743.0       220.0  \n",
       "16556           940.50       906.0       960.0       899.0       997.0  \n",
       "4761            940.50      1785.0      1372.0       516.0        89.0  \n",
       "6235            940.50       674.0       459.0       954.0      1675.0  \n",
       "8176            940.50       277.0       877.0      2124.0       484.0  \n",
       "...                ...         ...         ...         ...         ...  \n",
       "5148             71.25        60.0       163.0        51.0        11.0  \n",
       "11276            63.50        72.0         0.0        45.0       137.0  \n",
       "13319            62.00        96.0        18.0        98.0        36.0  \n",
       "2792             56.00        46.0         7.0       111.0        60.0  \n",
       "5710             48.25         1.0         9.0         4.0       179.0  \n",
       "\n",
       "[7001 rows x 17 columns]"
      ]
     },
     "execution_count": 47,
     "metadata": {},
     "output_type": "execute_result"
    }
   ],
   "source": [
    "credit_card_data[credit_card_data['Average Balance'] < media]"
   ]
  },
  {
   "cell_type": "markdown",
   "metadata": {},
   "source": [
    "10. What is the number of people who accepted the offer vs the number of people who did not?"
   ]
  },
  {
   "cell_type": "code",
   "execution_count": 48,
   "metadata": {},
   "outputs": [
    {
     "name": "stdout",
     "output_type": "stream",
     "text": [
      "Las personas que aceptaron la oferta fueron  1023  personas y los que la rechazaron fueron  16977  personas.\n"
     ]
    }
   ],
   "source": [
    "aceptar = len(credit_card_data[credit_card_data['Offer Accepted'] == 'Yes'])\n",
    "rechazar = len(credit_card_data[credit_card_data['Offer Accepted'] == 'No'])\n",
    "print('Las personas que aceptaron la oferta fueron ', aceptar, ' personas y los que la rechazaron fueron ', rechazar, ' personas.')"
   ]
  },
  {
   "cell_type": "markdown",
   "metadata": {},
   "source": [
    "11. Your managers are more interested in customers with a credit rating of high or medium. What is the difference in average balances of the customers with high credit card rating and low credit card rating?"
   ]
  },
  {
   "cell_type": "code",
   "execution_count": 51,
   "metadata": {},
   "outputs": [
    {
     "name": "stdout",
     "output_type": "stream",
     "text": [
      "La diferencia entre la media de 'Average Balance' de los que tienen 'Credit Rating' 'High' o 'Medium' es de  7.642663091566078 .\n"
     ]
    }
   ],
   "source": [
    "alto = credit_card_data[credit_card_data['Credit Rating'] == 'High'][['Average Balance']].mean()\n",
    "medio = credit_card_data[credit_card_data['Credit Rating'] == 'Medium'][['Average Balance']].mean()\n",
    "print('La diferencia entre la media de \\'Average Balance\\' de los que tienen \\'Credit Rating\\' \\'High\\' o \\'Medium\\' es de ', alto[0]-medio[0], '.')"
   ]
  },
  {
   "cell_type": "markdown",
   "metadata": {},
   "source": [
    "12. In the database, which all types of communication (`Mailer Type`) were used and with how many customers?"
   ]
  },
  {
   "cell_type": "code",
   "execution_count": 56,
   "metadata": {},
   "outputs": [
    {
     "name": "stdout",
     "output_type": "stream",
     "text": [
      "El tipo de comunicación  Letter  ha sido usado en  8853  clientes.\n",
      "El tipo de comunicación  Postcard  ha sido usado en  9147  clientes.\n"
     ]
    }
   ],
   "source": [
    "unique = credit_card_data['Mailer Type'].unique().tolist()\n",
    "count = []\n",
    "for u in unique:\n",
    "    count.append(len(credit_card_data[credit_card_data['Mailer Type']==u]))\n",
    "for i in range(len(unique)):\n",
    "    print('El tipo de comunicación ', unique[i], ' ha sido usado en ', count[i], ' clientes.')"
   ]
  },
  {
   "cell_type": "markdown",
   "metadata": {},
   "source": [
    "13. Provide the details of the customer that is the 11th least `Q1_balance` in your database."
   ]
  }
 ],
 "metadata": {
  "kernelspec": {
   "display_name": "Python 3.9.12 ('base')",
   "language": "python",
   "name": "python3"
  },
  "language_info": {
   "codemirror_mode": {
    "name": "ipython",
    "version": 3
   },
   "file_extension": ".py",
   "mimetype": "text/x-python",
   "name": "python",
   "nbconvert_exporter": "python",
   "pygments_lexer": "ipython3",
   "version": "3.9.12"
  },
  "orig_nbformat": 4,
  "vscode": {
   "interpreter": {
    "hash": "ad2bdc8ecc057115af97d19610ffacc2b4e99fae6737bb82f5d7fb13d2f2c186"
   }
  }
 },
 "nbformat": 4,
 "nbformat_minor": 2
}
