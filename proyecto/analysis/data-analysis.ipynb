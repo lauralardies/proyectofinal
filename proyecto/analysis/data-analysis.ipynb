{
 "cells": [
  {
   "cell_type": "code",
   "execution_count": 143,
   "source": [
    "import pandas as pd\n",
    "import numpy as np\n",
    "import matplotlib.pyplot as plt\n",
    "import seaborn as sns\n",
    "from sklearn.preprocessing import LabelEncoder\n",
    "from sklearn.model_selection import train_test_split\n",
    "from sklearn.linear_model import LogisticRegression\n",
    "from sklearn.metrics import accuracy_score, confusion_matrix, recall_score, precision_score, f1_score"
   ],
   "outputs": [],
   "metadata": {}
  },
  {
   "cell_type": "code",
   "execution_count": 114,
   "source": [
    "data=pd.read_csv('../data/clean_data.csv')\n",
    "data.head()\n",
    "# Observamos que las variables categóricas son de las columnas 'Offer Accepted', 'Reward', 'Mailer Type', 'Income Level', 'Overdraft Protection', 'Credit Rating' y 'Own Your Home'.\n",
    "# Estas variables categóricas las tenemos que pasar a numéricas."
   ],
   "outputs": [
    {
     "output_type": "execute_result",
     "data": {
      "text/html": [
       "<div>\n",
       "<style scoped>\n",
       "    .dataframe tbody tr th:only-of-type {\n",
       "        vertical-align: middle;\n",
       "    }\n",
       "\n",
       "    .dataframe tbody tr th {\n",
       "        vertical-align: top;\n",
       "    }\n",
       "\n",
       "    .dataframe thead th {\n",
       "        text-align: right;\n",
       "    }\n",
       "</style>\n",
       "<table border=\"1\" class=\"dataframe\">\n",
       "  <thead>\n",
       "    <tr style=\"text-align: right;\">\n",
       "      <th></th>\n",
       "      <th>Customer Number</th>\n",
       "      <th>Offer Accepted</th>\n",
       "      <th>Reward</th>\n",
       "      <th>Mailer Type</th>\n",
       "      <th>Income Level</th>\n",
       "      <th># Bank Accounts Open</th>\n",
       "      <th>Overdraft Protection</th>\n",
       "      <th>Credit Rating</th>\n",
       "      <th># Credit Cards Held</th>\n",
       "      <th># Homes Owned</th>\n",
       "      <th>Household Size</th>\n",
       "      <th>Own Your Home</th>\n",
       "      <th>Average Balance</th>\n",
       "      <th>Q1 Balance</th>\n",
       "      <th>Q2 Balance</th>\n",
       "      <th>Q3 Balance</th>\n",
       "      <th>Q4 Balance</th>\n",
       "    </tr>\n",
       "  </thead>\n",
       "  <tbody>\n",
       "    <tr>\n",
       "      <th>0</th>\n",
       "      <td>1</td>\n",
       "      <td>No</td>\n",
       "      <td>Air Miles</td>\n",
       "      <td>Letter</td>\n",
       "      <td>High</td>\n",
       "      <td>1</td>\n",
       "      <td>No</td>\n",
       "      <td>High</td>\n",
       "      <td>2</td>\n",
       "      <td>1</td>\n",
       "      <td>4</td>\n",
       "      <td>No</td>\n",
       "      <td>1160.75</td>\n",
       "      <td>1669.0</td>\n",
       "      <td>877.0</td>\n",
       "      <td>1095.0</td>\n",
       "      <td>1002.0</td>\n",
       "    </tr>\n",
       "    <tr>\n",
       "      <th>1</th>\n",
       "      <td>2</td>\n",
       "      <td>No</td>\n",
       "      <td>Air Miles</td>\n",
       "      <td>Letter</td>\n",
       "      <td>Medium</td>\n",
       "      <td>1</td>\n",
       "      <td>No</td>\n",
       "      <td>Medium</td>\n",
       "      <td>2</td>\n",
       "      <td>2</td>\n",
       "      <td>5</td>\n",
       "      <td>Yes</td>\n",
       "      <td>147.25</td>\n",
       "      <td>39.0</td>\n",
       "      <td>106.0</td>\n",
       "      <td>78.0</td>\n",
       "      <td>366.0</td>\n",
       "    </tr>\n",
       "    <tr>\n",
       "      <th>2</th>\n",
       "      <td>3</td>\n",
       "      <td>No</td>\n",
       "      <td>Air Miles</td>\n",
       "      <td>Postcard</td>\n",
       "      <td>High</td>\n",
       "      <td>2</td>\n",
       "      <td>No</td>\n",
       "      <td>Medium</td>\n",
       "      <td>2</td>\n",
       "      <td>1</td>\n",
       "      <td>2</td>\n",
       "      <td>Yes</td>\n",
       "      <td>276.50</td>\n",
       "      <td>367.0</td>\n",
       "      <td>352.0</td>\n",
       "      <td>145.0</td>\n",
       "      <td>242.0</td>\n",
       "    </tr>\n",
       "    <tr>\n",
       "      <th>3</th>\n",
       "      <td>4</td>\n",
       "      <td>No</td>\n",
       "      <td>Air Miles</td>\n",
       "      <td>Letter</td>\n",
       "      <td>Medium</td>\n",
       "      <td>2</td>\n",
       "      <td>No</td>\n",
       "      <td>High</td>\n",
       "      <td>1</td>\n",
       "      <td>1</td>\n",
       "      <td>4</td>\n",
       "      <td>No</td>\n",
       "      <td>1219.00</td>\n",
       "      <td>1578.0</td>\n",
       "      <td>1760.0</td>\n",
       "      <td>1119.0</td>\n",
       "      <td>419.0</td>\n",
       "    </tr>\n",
       "    <tr>\n",
       "      <th>4</th>\n",
       "      <td>5</td>\n",
       "      <td>No</td>\n",
       "      <td>Air Miles</td>\n",
       "      <td>Letter</td>\n",
       "      <td>Medium</td>\n",
       "      <td>1</td>\n",
       "      <td>No</td>\n",
       "      <td>Medium</td>\n",
       "      <td>2</td>\n",
       "      <td>1</td>\n",
       "      <td>6</td>\n",
       "      <td>Yes</td>\n",
       "      <td>1211.00</td>\n",
       "      <td>2140.0</td>\n",
       "      <td>1357.0</td>\n",
       "      <td>982.0</td>\n",
       "      <td>365.0</td>\n",
       "    </tr>\n",
       "  </tbody>\n",
       "</table>\n",
       "</div>"
      ],
      "text/plain": [
       "   Customer Number Offer Accepted     Reward Mailer Type Income Level  \\\n",
       "0                1             No  Air Miles      Letter         High   \n",
       "1                2             No  Air Miles      Letter       Medium   \n",
       "2                3             No  Air Miles    Postcard         High   \n",
       "3                4             No  Air Miles      Letter       Medium   \n",
       "4                5             No  Air Miles      Letter       Medium   \n",
       "\n",
       "   # Bank Accounts Open Overdraft Protection Credit Rating  \\\n",
       "0                     1                   No          High   \n",
       "1                     1                   No        Medium   \n",
       "2                     2                   No        Medium   \n",
       "3                     2                   No          High   \n",
       "4                     1                   No        Medium   \n",
       "\n",
       "   # Credit Cards Held  # Homes Owned  Household Size Own Your Home  \\\n",
       "0                    2              1               4            No   \n",
       "1                    2              2               5           Yes   \n",
       "2                    2              1               2           Yes   \n",
       "3                    1              1               4            No   \n",
       "4                    2              1               6           Yes   \n",
       "\n",
       "   Average Balance  Q1 Balance  Q2 Balance  Q3 Balance  Q4 Balance  \n",
       "0          1160.75      1669.0       877.0      1095.0      1002.0  \n",
       "1           147.25        39.0       106.0        78.0       366.0  \n",
       "2           276.50       367.0       352.0       145.0       242.0  \n",
       "3          1219.00      1578.0      1760.0      1119.0       419.0  \n",
       "4          1211.00      2140.0      1357.0       982.0       365.0  "
      ]
     },
     "metadata": {},
     "execution_count": 114
    }
   ],
   "metadata": {}
  },
  {
   "cell_type": "code",
   "execution_count": 115,
   "source": [
    "#Eliminamos las columnas que no nos sirvan\n",
    "data.drop(columns=['Customer Number'], inplace=True)\n",
    "data.head()"
   ],
   "outputs": [
    {
     "output_type": "execute_result",
     "data": {
      "text/html": [
       "<div>\n",
       "<style scoped>\n",
       "    .dataframe tbody tr th:only-of-type {\n",
       "        vertical-align: middle;\n",
       "    }\n",
       "\n",
       "    .dataframe tbody tr th {\n",
       "        vertical-align: top;\n",
       "    }\n",
       "\n",
       "    .dataframe thead th {\n",
       "        text-align: right;\n",
       "    }\n",
       "</style>\n",
       "<table border=\"1\" class=\"dataframe\">\n",
       "  <thead>\n",
       "    <tr style=\"text-align: right;\">\n",
       "      <th></th>\n",
       "      <th>Offer Accepted</th>\n",
       "      <th>Reward</th>\n",
       "      <th>Mailer Type</th>\n",
       "      <th>Income Level</th>\n",
       "      <th># Bank Accounts Open</th>\n",
       "      <th>Overdraft Protection</th>\n",
       "      <th>Credit Rating</th>\n",
       "      <th># Credit Cards Held</th>\n",
       "      <th># Homes Owned</th>\n",
       "      <th>Household Size</th>\n",
       "      <th>Own Your Home</th>\n",
       "      <th>Average Balance</th>\n",
       "      <th>Q1 Balance</th>\n",
       "      <th>Q2 Balance</th>\n",
       "      <th>Q3 Balance</th>\n",
       "      <th>Q4 Balance</th>\n",
       "    </tr>\n",
       "  </thead>\n",
       "  <tbody>\n",
       "    <tr>\n",
       "      <th>0</th>\n",
       "      <td>No</td>\n",
       "      <td>Air Miles</td>\n",
       "      <td>Letter</td>\n",
       "      <td>High</td>\n",
       "      <td>1</td>\n",
       "      <td>No</td>\n",
       "      <td>High</td>\n",
       "      <td>2</td>\n",
       "      <td>1</td>\n",
       "      <td>4</td>\n",
       "      <td>No</td>\n",
       "      <td>1160.75</td>\n",
       "      <td>1669.0</td>\n",
       "      <td>877.0</td>\n",
       "      <td>1095.0</td>\n",
       "      <td>1002.0</td>\n",
       "    </tr>\n",
       "    <tr>\n",
       "      <th>1</th>\n",
       "      <td>No</td>\n",
       "      <td>Air Miles</td>\n",
       "      <td>Letter</td>\n",
       "      <td>Medium</td>\n",
       "      <td>1</td>\n",
       "      <td>No</td>\n",
       "      <td>Medium</td>\n",
       "      <td>2</td>\n",
       "      <td>2</td>\n",
       "      <td>5</td>\n",
       "      <td>Yes</td>\n",
       "      <td>147.25</td>\n",
       "      <td>39.0</td>\n",
       "      <td>106.0</td>\n",
       "      <td>78.0</td>\n",
       "      <td>366.0</td>\n",
       "    </tr>\n",
       "    <tr>\n",
       "      <th>2</th>\n",
       "      <td>No</td>\n",
       "      <td>Air Miles</td>\n",
       "      <td>Postcard</td>\n",
       "      <td>High</td>\n",
       "      <td>2</td>\n",
       "      <td>No</td>\n",
       "      <td>Medium</td>\n",
       "      <td>2</td>\n",
       "      <td>1</td>\n",
       "      <td>2</td>\n",
       "      <td>Yes</td>\n",
       "      <td>276.50</td>\n",
       "      <td>367.0</td>\n",
       "      <td>352.0</td>\n",
       "      <td>145.0</td>\n",
       "      <td>242.0</td>\n",
       "    </tr>\n",
       "    <tr>\n",
       "      <th>3</th>\n",
       "      <td>No</td>\n",
       "      <td>Air Miles</td>\n",
       "      <td>Letter</td>\n",
       "      <td>Medium</td>\n",
       "      <td>2</td>\n",
       "      <td>No</td>\n",
       "      <td>High</td>\n",
       "      <td>1</td>\n",
       "      <td>1</td>\n",
       "      <td>4</td>\n",
       "      <td>No</td>\n",
       "      <td>1219.00</td>\n",
       "      <td>1578.0</td>\n",
       "      <td>1760.0</td>\n",
       "      <td>1119.0</td>\n",
       "      <td>419.0</td>\n",
       "    </tr>\n",
       "    <tr>\n",
       "      <th>4</th>\n",
       "      <td>No</td>\n",
       "      <td>Air Miles</td>\n",
       "      <td>Letter</td>\n",
       "      <td>Medium</td>\n",
       "      <td>1</td>\n",
       "      <td>No</td>\n",
       "      <td>Medium</td>\n",
       "      <td>2</td>\n",
       "      <td>1</td>\n",
       "      <td>6</td>\n",
       "      <td>Yes</td>\n",
       "      <td>1211.00</td>\n",
       "      <td>2140.0</td>\n",
       "      <td>1357.0</td>\n",
       "      <td>982.0</td>\n",
       "      <td>365.0</td>\n",
       "    </tr>\n",
       "  </tbody>\n",
       "</table>\n",
       "</div>"
      ],
      "text/plain": [
       "  Offer Accepted     Reward Mailer Type Income Level  # Bank Accounts Open  \\\n",
       "0             No  Air Miles      Letter         High                     1   \n",
       "1             No  Air Miles      Letter       Medium                     1   \n",
       "2             No  Air Miles    Postcard         High                     2   \n",
       "3             No  Air Miles      Letter       Medium                     2   \n",
       "4             No  Air Miles      Letter       Medium                     1   \n",
       "\n",
       "  Overdraft Protection Credit Rating  # Credit Cards Held  # Homes Owned  \\\n",
       "0                   No          High                    2              1   \n",
       "1                   No        Medium                    2              2   \n",
       "2                   No        Medium                    2              1   \n",
       "3                   No          High                    1              1   \n",
       "4                   No        Medium                    2              1   \n",
       "\n",
       "   Household Size Own Your Home  Average Balance  Q1 Balance  Q2 Balance  \\\n",
       "0               4            No          1160.75      1669.0       877.0   \n",
       "1               5           Yes           147.25        39.0       106.0   \n",
       "2               2           Yes           276.50       367.0       352.0   \n",
       "3               4            No          1219.00      1578.0      1760.0   \n",
       "4               6           Yes          1211.00      2140.0      1357.0   \n",
       "\n",
       "   Q3 Balance  Q4 Balance  \n",
       "0      1095.0      1002.0  \n",
       "1        78.0       366.0  \n",
       "2       145.0       242.0  \n",
       "3      1119.0       419.0  \n",
       "4       982.0       365.0  "
      ]
     },
     "metadata": {},
     "execution_count": 115
    }
   ],
   "metadata": {}
  },
  {
   "cell_type": "code",
   "execution_count": 116,
   "source": [
    "data['Offer Accepted'].unique()"
   ],
   "outputs": [
    {
     "output_type": "execute_result",
     "data": {
      "text/plain": [
       "array(['No', 'Yes'], dtype=object)"
      ]
     },
     "metadata": {},
     "execution_count": 116
    }
   ],
   "metadata": {}
  },
  {
   "cell_type": "code",
   "execution_count": 117,
   "source": [
    "#Columna Offer Accepted\n",
    "le = LabelEncoder().fit(data['Offer Accepted'])\n",
    "data['Offer Accepted'] = le.transform(data['Offer Accepted'])\n",
    "data['Offer Accepted'].unique()"
   ],
   "outputs": [
    {
     "output_type": "execute_result",
     "data": {
      "text/plain": [
       "array([0, 1])"
      ]
     },
     "metadata": {},
     "execution_count": 117
    }
   ],
   "metadata": {}
  },
  {
   "cell_type": "code",
   "execution_count": 118,
   "source": [
    "data['Reward'].unique()"
   ],
   "outputs": [
    {
     "output_type": "execute_result",
     "data": {
      "text/plain": [
       "array(['Air Miles', 'Cash Back', 'Points'], dtype=object)"
      ]
     },
     "metadata": {},
     "execution_count": 118
    }
   ],
   "metadata": {}
  },
  {
   "cell_type": "code",
   "execution_count": 119,
   "source": [
    "#Columna Reward\n",
    "le = LabelEncoder().fit(data['Reward'])\n",
    "data['Reward'] = le.transform(data['Reward'])\n",
    "data['Reward'].unique()"
   ],
   "outputs": [
    {
     "output_type": "execute_result",
     "data": {
      "text/plain": [
       "array([0, 1, 2])"
      ]
     },
     "metadata": {},
     "execution_count": 119
    }
   ],
   "metadata": {}
  },
  {
   "cell_type": "code",
   "execution_count": 120,
   "source": [
    "data['Mailer Type'].unique()"
   ],
   "outputs": [
    {
     "output_type": "execute_result",
     "data": {
      "text/plain": [
       "array(['Letter', 'Postcard'], dtype=object)"
      ]
     },
     "metadata": {},
     "execution_count": 120
    }
   ],
   "metadata": {}
  },
  {
   "cell_type": "code",
   "execution_count": 121,
   "source": [
    "#Columna Mailer Type\n",
    "le = LabelEncoder().fit(data['Mailer Type'])\n",
    "data['Mailer Type'] = le.transform(data['Mailer Type'])\n",
    "data['Mailer Type'].unique()"
   ],
   "outputs": [
    {
     "output_type": "execute_result",
     "data": {
      "text/plain": [
       "array([0, 1])"
      ]
     },
     "metadata": {},
     "execution_count": 121
    }
   ],
   "metadata": {}
  },
  {
   "cell_type": "code",
   "execution_count": 122,
   "source": [
    "data['Income Level'].unique()"
   ],
   "outputs": [
    {
     "output_type": "execute_result",
     "data": {
      "text/plain": [
       "array(['High', 'Medium', 'Low'], dtype=object)"
      ]
     },
     "metadata": {},
     "execution_count": 122
    }
   ],
   "metadata": {}
  },
  {
   "cell_type": "code",
   "execution_count": 123,
   "source": [
    "#Columna Mailer Type\n",
    "le = LabelEncoder().fit(data['Income Level'])\n",
    "data['Income Level'] = le.transform(data['Income Level'])\n",
    "data['Income Level'].unique()"
   ],
   "outputs": [
    {
     "output_type": "execute_result",
     "data": {
      "text/plain": [
       "array([0, 2, 1])"
      ]
     },
     "metadata": {},
     "execution_count": 123
    }
   ],
   "metadata": {}
  },
  {
   "cell_type": "code",
   "execution_count": 124,
   "source": [
    "data['Overdraft Protection'].unique()"
   ],
   "outputs": [
    {
     "output_type": "execute_result",
     "data": {
      "text/plain": [
       "array(['No', 'Yes'], dtype=object)"
      ]
     },
     "metadata": {},
     "execution_count": 124
    }
   ],
   "metadata": {}
  },
  {
   "cell_type": "code",
   "execution_count": 125,
   "source": [
    "#Columna Overdraft Protection\n",
    "le = LabelEncoder().fit(data['Overdraft Protection'])\n",
    "data['Overdraft Protection'] = le.transform(data['Overdraft Protection'])\n",
    "data['Overdraft Protection'].unique()"
   ],
   "outputs": [
    {
     "output_type": "execute_result",
     "data": {
      "text/plain": [
       "array([0, 1])"
      ]
     },
     "metadata": {},
     "execution_count": 125
    }
   ],
   "metadata": {}
  },
  {
   "cell_type": "code",
   "execution_count": 126,
   "source": [
    "data['Credit Rating'].unique()"
   ],
   "outputs": [
    {
     "output_type": "execute_result",
     "data": {
      "text/plain": [
       "array(['High', 'Medium', 'Low'], dtype=object)"
      ]
     },
     "metadata": {},
     "execution_count": 126
    }
   ],
   "metadata": {}
  },
  {
   "cell_type": "code",
   "execution_count": 127,
   "source": [
    "#Columna Credit Rating\n",
    "le = LabelEncoder().fit(data['Credit Rating'])\n",
    "data['Credit Rating'] = le.transform(data['Credit Rating'])\n",
    "data['Credit Rating'].unique()"
   ],
   "outputs": [
    {
     "output_type": "execute_result",
     "data": {
      "text/plain": [
       "array([0, 2, 1])"
      ]
     },
     "metadata": {},
     "execution_count": 127
    }
   ],
   "metadata": {}
  },
  {
   "cell_type": "code",
   "execution_count": 128,
   "source": [
    "data['Own Your Home'].unique()"
   ],
   "outputs": [
    {
     "output_type": "execute_result",
     "data": {
      "text/plain": [
       "array(['No', 'Yes'], dtype=object)"
      ]
     },
     "metadata": {},
     "execution_count": 128
    }
   ],
   "metadata": {}
  },
  {
   "cell_type": "code",
   "execution_count": 129,
   "source": [
    "#Columna Own Your Home\n",
    "le = LabelEncoder().fit(data['Own Your Home'])\n",
    "data['Own Your Home'] = le.transform(data['Own Your Home'])\n",
    "data['Own Your Home'].unique()"
   ],
   "outputs": [
    {
     "output_type": "execute_result",
     "data": {
      "text/plain": [
       "array([0, 1])"
      ]
     },
     "metadata": {},
     "execution_count": 129
    }
   ],
   "metadata": {}
  },
  {
   "cell_type": "code",
   "execution_count": 130,
   "source": [
    "plt.figure(figsize=(15, 10))\n",
    "sns.set(style='white')\n",
    "\n",
    "mask=np.triu(np.ones_like(data.corr(), dtype=bool))\n",
    "cmap=sns.diverging_palette(0, 10, as_cmap=True)\n",
    "\n",
    "sns.heatmap(data.corr(),\n",
    "          mask=mask,\n",
    "          cmap=cmap,\n",
    "          center=0,\n",
    "          square=True,\n",
    "          annot=True,\n",
    "          linewidths=0.5,\n",
    "          cbar_kws={'shrink': 0.5})"
   ],
   "outputs": [
    {
     "output_type": "execute_result",
     "data": {
      "text/plain": [
       "<AxesSubplot:>"
      ]
     },
     "metadata": {},
     "execution_count": 130
    },
    {
     "output_type": "display_data",
     "data": {
      "image/png": "[encoded data removed]",
      "text/plain": [
       "<Figure size 1080x720 with 2 Axes>"
      ]
     },
     "metadata": {}
    }
   ],
   "metadata": {}
  },
  {
   "cell_type": "code",
   "execution_count": 131,
   "source": [
    "credit_card_dummy = pd.get_dummies(data, drop_first = True)\n",
    "credit_card_dummy.head()"
   ],
   "outputs": [
    {
     "output_type": "execute_result",
     "data": {
      "text/html": [
       "<div>\n",
       "<style scoped>\n",
       "    .dataframe tbody tr th:only-of-type {\n",
       "        vertical-align: middle;\n",
       "    }\n",
       "\n",
       "    .dataframe tbody tr th {\n",
       "        vertical-align: top;\n",
       "    }\n",
       "\n",
       "    .dataframe thead th {\n",
       "        text-align: right;\n",
       "    }\n",
       "</style>\n",
       "<table border=\"1\" class=\"dataframe\">\n",
       "  <thead>\n",
       "    <tr style=\"text-align: right;\">\n",
       "      <th></th>\n",
       "      <th>Offer Accepted</th>\n",
       "      <th>Reward</th>\n",
       "      <th>Mailer Type</th>\n",
       "      <th>Income Level</th>\n",
       "      <th># Bank Accounts Open</th>\n",
       "      <th>Overdraft Protection</th>\n",
       "      <th>Credit Rating</th>\n",
       "      <th># Credit Cards Held</th>\n",
       "      <th># Homes Owned</th>\n",
       "      <th>Household Size</th>\n",
       "      <th>Own Your Home</th>\n",
       "      <th>Average Balance</th>\n",
       "      <th>Q1 Balance</th>\n",
       "      <th>Q2 Balance</th>\n",
       "      <th>Q3 Balance</th>\n",
       "      <th>Q4 Balance</th>\n",
       "    </tr>\n",
       "  </thead>\n",
       "  <tbody>\n",
       "    <tr>\n",
       "      <th>0</th>\n",
       "      <td>0</td>\n",
       "      <td>0</td>\n",
       "      <td>0</td>\n",
       "      <td>0</td>\n",
       "      <td>1</td>\n",
       "      <td>0</td>\n",
       "      <td>0</td>\n",
       "      <td>2</td>\n",
       "      <td>1</td>\n",
       "      <td>4</td>\n",
       "      <td>0</td>\n",
       "      <td>1160.75</td>\n",
       "      <td>1669.0</td>\n",
       "      <td>877.0</td>\n",
       "      <td>1095.0</td>\n",
       "      <td>1002.0</td>\n",
       "    </tr>\n",
       "    <tr>\n",
       "      <th>1</th>\n",
       "      <td>0</td>\n",
       "      <td>0</td>\n",
       "      <td>0</td>\n",
       "      <td>2</td>\n",
       "      <td>1</td>\n",
       "      <td>0</td>\n",
       "      <td>2</td>\n",
       "      <td>2</td>\n",
       "      <td>2</td>\n",
       "      <td>5</td>\n",
       "      <td>1</td>\n",
       "      <td>147.25</td>\n",
       "      <td>39.0</td>\n",
       "      <td>106.0</td>\n",
       "      <td>78.0</td>\n",
       "      <td>366.0</td>\n",
       "    </tr>\n",
       "    <tr>\n",
       "      <th>2</th>\n",
       "      <td>0</td>\n",
       "      <td>0</td>\n",
       "      <td>1</td>\n",
       "      <td>0</td>\n",
       "      <td>2</td>\n",
       "      <td>0</td>\n",
       "      <td>2</td>\n",
       "      <td>2</td>\n",
       "      <td>1</td>\n",
       "      <td>2</td>\n",
       "      <td>1</td>\n",
       "      <td>276.50</td>\n",
       "      <td>367.0</td>\n",
       "      <td>352.0</td>\n",
       "      <td>145.0</td>\n",
       "      <td>242.0</td>\n",
       "    </tr>\n",
       "    <tr>\n",
       "      <th>3</th>\n",
       "      <td>0</td>\n",
       "      <td>0</td>\n",
       "      <td>0</td>\n",
       "      <td>2</td>\n",
       "      <td>2</td>\n",
       "      <td>0</td>\n",
       "      <td>0</td>\n",
       "      <td>1</td>\n",
       "      <td>1</td>\n",
       "      <td>4</td>\n",
       "      <td>0</td>\n",
       "      <td>1219.00</td>\n",
       "      <td>1578.0</td>\n",
       "      <td>1760.0</td>\n",
       "      <td>1119.0</td>\n",
       "      <td>419.0</td>\n",
       "    </tr>\n",
       "    <tr>\n",
       "      <th>4</th>\n",
       "      <td>0</td>\n",
       "      <td>0</td>\n",
       "      <td>0</td>\n",
       "      <td>2</td>\n",
       "      <td>1</td>\n",
       "      <td>0</td>\n",
       "      <td>2</td>\n",
       "      <td>2</td>\n",
       "      <td>1</td>\n",
       "      <td>6</td>\n",
       "      <td>1</td>\n",
       "      <td>1211.00</td>\n",
       "      <td>2140.0</td>\n",
       "      <td>1357.0</td>\n",
       "      <td>982.0</td>\n",
       "      <td>365.0</td>\n",
       "    </tr>\n",
       "  </tbody>\n",
       "</table>\n",
       "</div>"
      ],
      "text/plain": [
       "   Offer Accepted  Reward  Mailer Type  Income Level  # Bank Accounts Open  \\\n",
       "0               0       0            0             0                     1   \n",
       "1               0       0            0             2                     1   \n",
       "2               0       0            1             0                     2   \n",
       "3               0       0            0             2                     2   \n",
       "4               0       0            0             2                     1   \n",
       "\n",
       "   Overdraft Protection  Credit Rating  # Credit Cards Held  # Homes Owned  \\\n",
       "0                     0              0                    2              1   \n",
       "1                     0              2                    2              2   \n",
       "2                     0              2                    2              1   \n",
       "3                     0              0                    1              1   \n",
       "4                     0              2                    2              1   \n",
       "\n",
       "   Household Size  Own Your Home  Average Balance  Q1 Balance  Q2 Balance  \\\n",
       "0               4              0          1160.75      1669.0       877.0   \n",
       "1               5              1           147.25        39.0       106.0   \n",
       "2               2              1           276.50       367.0       352.0   \n",
       "3               4              0          1219.00      1578.0      1760.0   \n",
       "4               6              1          1211.00      2140.0      1357.0   \n",
       "\n",
       "   Q3 Balance  Q4 Balance  \n",
       "0      1095.0      1002.0  \n",
       "1        78.0       366.0  \n",
       "2       145.0       242.0  \n",
       "3      1119.0       419.0  \n",
       "4       982.0       365.0  "
      ]
     },
     "metadata": {},
     "execution_count": 131
    }
   ],
   "metadata": {}
  },
  {
   "cell_type": "code",
   "execution_count": 132,
   "source": [
    "X = credit_card_dummy.drop('Offer Accepted', axis = True)\n",
    "y = credit_card_dummy['Offer Accepted']\n",
    "\n",
    "X_train, X_test, y_train, y_test = train_test_split(X, y, test_size = .2, stratify = y)\n",
    "\n",
    "#Seleccionamos 80% de los datos para training y 20% para testing"
   ],
   "outputs": [],
   "metadata": {}
  },
  {
   "cell_type": "code",
   "execution_count": 133,
   "source": [
    "y_train.value_counts(normalize = True), y_test.value_counts(normalize = True)"
   ],
   "outputs": [
    {
     "output_type": "execute_result",
     "data": {
      "text/plain": [
       "(0    0.943185\n",
       " 1    0.056815\n",
       " Name: Offer Accepted, dtype: float64,\n",
       " 0    0.94327\n",
       " 1    0.05673\n",
       " Name: Offer Accepted, dtype: float64)"
      ]
     },
     "metadata": {},
     "execution_count": 133
    }
   ],
   "metadata": {}
  },
  {
   "cell_type": "code",
   "execution_count": 134,
   "source": [
    "lg = LogisticRegression(max_iter = 2000)\n",
    "lg.fit(X_train, y_train)\n",
    "pred = lg.predict(X_test)"
   ],
   "outputs": [],
   "metadata": {}
  },
  {
   "cell_type": "code",
   "execution_count": 135,
   "source": [
    "acc = accuracy_score(y_test, pred)\n",
    "print(f'Accuracy lg: {acc}')\n",
    "\n",
    "cm = confusion_matrix(y_test, pred)\n",
    "\n",
    "plt.figure(figsize = (15, 20))\n",
    "sns.heatmap(cm, annot = True)\n",
    "plt.show()"
   ],
   "outputs": [
    {
     "output_type": "stream",
     "name": "stdout",
     "text": [
      "Accuracy lg: 0.9432703003337041\n"
     ]
    },
    {
     "output_type": "display_data",
     "data": {
      "image/png": "[encoded data removed]",
      "text/plain": [
       "<Figure size 1080x1440 with 2 Axes>"
      ]
     },
     "metadata": {}
    }
   ],
   "metadata": {}
  },
  {
   "cell_type": "code",
   "execution_count": null,
   "source": [
    "# La precisión no es del todo mala porque está por encima de 0.9\n",
    "# Sabemos que 0 es 'No' y 1 es 'Yes'\n",
    "# No ha predecido ningun yes (False positive, True positive).\n",
    "# Lo mejor que ha predecido es que no aceptaban la oferta y de verdad no la aceptaban (True negative).\n",
    "# Algunas veces ha predecido que no cuando si (False negative).\n",
    "# Como este modelo nunca predice que sí se acepta la oferta, no es rentable. Vamos a balancear los datos.\n",
    "# Como la diferencia entre 'Yes' y 'No' es muy grande, vamos a hacer undersampling"
   ],
   "outputs": [],
   "metadata": {}
  },
  {
   "cell_type": "code",
   "execution_count": 136,
   "source": [
    "!pip install -U imbalanced-learn"
   ],
   "outputs": [
    {
     "output_type": "stream",
     "name": "stdout",
     "text": [
      "Collecting imbalanced-learn\n",
      "  Downloading imbalanced_learn-0.10.0-py3-none-any.whl (225 kB)\n",
      "\u001b[K     |████████████████████████████████| 225 kB 3.4 MB/s \n",
      "\u001b[?25hRequirement already satisfied: scikit-learn>=1.0.2 in /Users/carlotasanchezgonzalez/opt/anaconda3/lib/python3.9/site-packages (from imbalanced-learn) (1.0.2)\n",
      "Requirement already satisfied: threadpoolctl>=2.0.0 in /Users/carlotasanchezgonzalez/opt/anaconda3/lib/python3.9/site-packages (from imbalanced-learn) (2.2.0)\n",
      "Requirement already satisfied: numpy>=1.17.3 in /Users/carlotasanchezgonzalez/opt/anaconda3/lib/python3.9/site-packages (from imbalanced-learn) (1.21.5)\n",
      "Requirement already satisfied: scipy>=1.3.2 in /Users/carlotasanchezgonzalez/opt/anaconda3/lib/python3.9/site-packages (from imbalanced-learn) (1.7.3)\n",
      "Collecting joblib>=1.1.1\n",
      "  Downloading joblib-1.2.0-py3-none-any.whl (297 kB)\n",
      "\u001b[K     |████████████████████████████████| 297 kB 37.6 MB/s \n",
      "\u001b[?25hInstalling collected packages: joblib, imbalanced-learn\n",
      "  Attempting uninstall: joblib\n",
      "    Found existing installation: joblib 1.1.0\n",
      "    Uninstalling joblib-1.1.0:\n",
      "      Successfully uninstalled joblib-1.1.0\n",
      "Successfully installed imbalanced-learn-0.10.0 joblib-1.2.0\n"
     ]
    }
   ],
   "metadata": {}
  },
  {
   "cell_type": "code",
   "execution_count": 137,
   "source": [
    "from imblearn.under_sampling import RandomUnderSampler"
   ],
   "outputs": [],
   "metadata": {}
  },
  {
   "cell_type": "code",
   "execution_count": 139,
   "source": [
    "rus=RandomUnderSampler()\n",
    "X_train_rus, y_train_rus=rus.fit_resample(X_train, y_train)\n"
   ],
   "outputs": [],
   "metadata": {}
  },
  {
   "cell_type": "code",
   "execution_count": 140,
   "source": [
    "X_train.shape, y_train.shape"
   ],
   "outputs": [
    {
     "output_type": "execute_result",
     "data": {
      "text/plain": [
       "((14380, 15), (14380,))"
      ]
     },
     "metadata": {},
     "execution_count": 140
    }
   ],
   "metadata": {}
  },
  {
   "cell_type": "code",
   "execution_count": 141,
   "source": [
    "X_train_rus.shape, y_train_rus.shape"
   ],
   "outputs": [
    {
     "output_type": "execute_result",
     "data": {
      "text/plain": [
       "((1634, 15), (1634,))"
      ]
     },
     "metadata": {},
     "execution_count": 141
    }
   ],
   "metadata": {}
  },
  {
   "cell_type": "code",
   "execution_count": 180,
   "source": [
    "y_train_rus.value_counts(normalize = True), y_test.value_counts(normalize = True)\n",
    "\n",
    "lg = LogisticRegression(max_iter = 2000)\n",
    "lg.fit(X_train_rus, y_train_rus)\n",
    "pred = lg.predict(X_test)\n",
    "\n",
    "probas=lg.predict_proba(X_test)\n",
    "preds=[1 if probas[i][1]>0.54 else 0 for i in range(len(probas))]\n",
    "recall_proba = recall_score(y_test, preds)\n",
    "precision_proba = precision_score(y_test, preds)\n",
    "f1_score_proba = f1_score(y_test, preds)\n",
    "print(f'Recall: {recall_proba},\\nPrecision: {precision_proba},\\nf1: {f1_score_proba}')\n",
    "\n",
    "cm = confusion_matrix(y_test, preds)\n",
    "\n",
    "plt.figure(figsize = (15, 20))\n",
    "sns.heatmap(cm, annot = True)\n",
    "plt.show()"
   ],
   "outputs": [
    {
     "output_type": "stream",
     "name": "stdout",
     "text": [
      "Recall: 0.5294117647058824,\n",
      "Precision: 0.08794788273615635,\n",
      "f1: 0.15083798882681562\n"
     ]
    },
    {
     "output_type": "display_data",
     "data": {
      "image/png": "[encoded data removed]",
      "text/plain": [
       "<Figure size 1080x1440 with 2 Axes>"
      ]
     },
     "metadata": {}
    }
   ],
   "metadata": {}
  },
  {
   "cell_type": "code",
   "execution_count": null,
   "source": [
    "# Aquí nuestro modelo ha mejorado porque hay varias predicciones de 'Yes'. \n",
    "# Con este modelos SABEMOS a quién NO llamar."
   ],
   "outputs": [],
   "metadata": {}
  }
 ],
 "metadata": {
  "kernelspec": {
   "name": "python3",
   "display_name": "Python 3.9.12 64-bit ('base': conda)"
  },
  "language_info": {
   "name": "python",
   "version": "3.9.12",
   "mimetype": "text/x-python",
   "codemirror_mode": {
    "name": "ipython",
    "version": 3
   },
   "pygments_lexer": "ipython3",
   "nbconvert_exporter": "python",
   "file_extension": ".py"
  },
  "orig_nbformat": 4,
  "vscode": {
   "interpreter": {
    "hash": "ad2bdc8ecc057115af97d19610ffacc2b4e99fae6737bb82f5d7fb13d2f2c186"
   }
  },
  "interpreter": {
   "hash": "baf8ad38495eb20498b3904566a260d95b98957ade219be233bcc50760a99eae"
  }
 },
 "nbformat": 4,
 "nbformat_minor": 2
}